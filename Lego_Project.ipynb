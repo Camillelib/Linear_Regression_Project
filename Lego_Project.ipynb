{
 "cells": [
  {
   "cell_type": "markdown",
   "metadata": {},
   "source": [
    "![Lego](https://www.lego.com/cdn/cs/set/assets/blt43d71bdb7a2ee793/pick-a-brick-banner-background-large.jpg?width=1320&height=200&dpr=1)"
   ]
  },
  {
   "cell_type": "markdown",
   "metadata": {},
   "source": [
    "# Lego - Linear Regression\n",
    "\n",
    "<b>Hypothesis: Can we predict the price of a lego set ?</b>\n",
    "\n",
    "### Steps for Linear Regression\n",
    "1. Data collection\n",
    "2. Data cleaning\n",
    "3. Linear regression\n",
    "4. Checking assumptions\n",
    "5. Results: final linear regression and assumptions"
   ]
  },
  {
   "cell_type": "markdown",
   "metadata": {},
   "source": [
    "## Importing Librairies"
   ]
  },
  {
   "cell_type": "code",
   "execution_count": 98,
   "metadata": {},
   "outputs": [],
   "source": [
    "import pandas as pd\n",
    "from  datetime import datetime\n",
    "import statsmodels.api as sm\n",
    "from statsmodels.tools.tools import add_constant\n",
    "import matplotlib.pyplot as plt\n",
    "import seaborn as sns\n",
    "sns.set()\n",
    "%matplotlib inline\n",
    "from scipy.stats import boxcox\n",
    "\n",
    "# Checking assumptions\n",
    "from statsmodels.stats.outliers_influence import variance_inflation_factor as VIF\n",
    "from statsmodels.stats.stattools import durbin_watson\n",
    "import numpy as np\n",
    "from scipy.special import boxcox, inv_boxcox\n",
    "from statsmodels.stats.diagnostic import het_breuschpagan\n",
    "from scipy.stats import kstest\n",
    "from scipy.stats import probplot\n",
    "import pylab"
   ]
  },
  {
   "cell_type": "markdown",
   "metadata": {},
   "source": [
    "## 1. Data collection"
   ]
  },
  {
   "cell_type": "code",
   "execution_count": 99,
   "metadata": {},
   "outputs": [],
   "source": [
    "path_data = r\"C:/Users/Camille/Documents/Ecole/Ironhack/Week 6/Group_project/lego/data-tidy\"\n",
    "\n",
    "lego2 = pd.read_csv(path_data+\"/legosets.csv\")"
   ]
  },
  {
   "cell_type": "code",
   "execution_count": 100,
   "metadata": {},
   "outputs": [
    {
     "data": {
      "text/plain": [
       "5854"
      ]
     },
     "execution_count": 100,
     "metadata": {},
     "output_type": "execute_result"
    }
   ],
   "source": [
    "lego2.Item_Number.nunique()"
   ]
  },
  {
   "cell_type": "code",
   "execution_count": 101,
   "metadata": {},
   "outputs": [
    {
     "data": {
      "text/plain": [
       "(6172, 14)"
      ]
     },
     "execution_count": 101,
     "metadata": {},
     "output_type": "execute_result"
    }
   ],
   "source": [
    "lego2.shape"
   ]
  },
  {
   "cell_type": "code",
   "execution_count": 102,
   "metadata": {
    "scrolled": false
   },
   "outputs": [
    {
     "data": {
      "text/html": [
       "<div>\n",
       "<style scoped>\n",
       "    .dataframe tbody tr th:only-of-type {\n",
       "        vertical-align: middle;\n",
       "    }\n",
       "\n",
       "    .dataframe tbody tr th {\n",
       "        vertical-align: top;\n",
       "    }\n",
       "\n",
       "    .dataframe thead th {\n",
       "        text-align: right;\n",
       "    }\n",
       "</style>\n",
       "<table border=\"1\" class=\"dataframe\">\n",
       "  <thead>\n",
       "    <tr style=\"text-align: right;\">\n",
       "      <th></th>\n",
       "      <th>Item_Number</th>\n",
       "      <th>Name</th>\n",
       "      <th>Year</th>\n",
       "      <th>Theme</th>\n",
       "      <th>Subtheme</th>\n",
       "      <th>Pieces</th>\n",
       "      <th>Minifigures</th>\n",
       "      <th>Image_URL</th>\n",
       "      <th>GBP_MSRP</th>\n",
       "      <th>USD_MSRP</th>\n",
       "      <th>CAD_MSRP</th>\n",
       "      <th>EUR_MSRP</th>\n",
       "      <th>Packaging</th>\n",
       "      <th>Availability</th>\n",
       "    </tr>\n",
       "  </thead>\n",
       "  <tbody>\n",
       "    <tr>\n",
       "      <th>0</th>\n",
       "      <td>10246</td>\n",
       "      <td>Detective's Office</td>\n",
       "      <td>2015</td>\n",
       "      <td>Advanced Models</td>\n",
       "      <td>Modular Buildings</td>\n",
       "      <td>2262.0</td>\n",
       "      <td>6.0</td>\n",
       "      <td>http://images.brickset.com/sets/images/10246-1...</td>\n",
       "      <td>132.99</td>\n",
       "      <td>159.99</td>\n",
       "      <td>199.99</td>\n",
       "      <td>149.99</td>\n",
       "      <td>Box</td>\n",
       "      <td>Retail - limited</td>\n",
       "    </tr>\n",
       "    <tr>\n",
       "      <th>1</th>\n",
       "      <td>10247</td>\n",
       "      <td>Ferris Wheel</td>\n",
       "      <td>2015</td>\n",
       "      <td>Advanced Models</td>\n",
       "      <td>Fairground</td>\n",
       "      <td>2464.0</td>\n",
       "      <td>10.0</td>\n",
       "      <td>http://images.brickset.com/sets/images/10247-1...</td>\n",
       "      <td>149.99</td>\n",
       "      <td>199.99</td>\n",
       "      <td>229.99</td>\n",
       "      <td>179.99</td>\n",
       "      <td>Box</td>\n",
       "      <td>Retail - limited</td>\n",
       "    </tr>\n",
       "    <tr>\n",
       "      <th>2</th>\n",
       "      <td>10248</td>\n",
       "      <td>Ferrari F40</td>\n",
       "      <td>2015</td>\n",
       "      <td>Advanced Models</td>\n",
       "      <td>Vehicles</td>\n",
       "      <td>1158.0</td>\n",
       "      <td>NaN</td>\n",
       "      <td>http://images.brickset.com/sets/images/10248-1...</td>\n",
       "      <td>69.99</td>\n",
       "      <td>99.99</td>\n",
       "      <td>119.99</td>\n",
       "      <td>89.99</td>\n",
       "      <td>Box</td>\n",
       "      <td>LEGO exclusive</td>\n",
       "    </tr>\n",
       "    <tr>\n",
       "      <th>3</th>\n",
       "      <td>10249</td>\n",
       "      <td>Toy Shop</td>\n",
       "      <td>2015</td>\n",
       "      <td>Advanced Models</td>\n",
       "      <td>Winter Village</td>\n",
       "      <td>898.0</td>\n",
       "      <td>NaN</td>\n",
       "      <td>http://images.brickset.com/sets/images/10249-1...</td>\n",
       "      <td>59.99</td>\n",
       "      <td>79.99</td>\n",
       "      <td>NaN</td>\n",
       "      <td>69.99</td>\n",
       "      <td>Box</td>\n",
       "      <td>LEGO exclusive</td>\n",
       "    </tr>\n",
       "    <tr>\n",
       "      <th>4</th>\n",
       "      <td>10581</td>\n",
       "      <td>Ducks</td>\n",
       "      <td>2015</td>\n",
       "      <td>Duplo</td>\n",
       "      <td>Forest Animals</td>\n",
       "      <td>13.0</td>\n",
       "      <td>1.0</td>\n",
       "      <td>http://images.brickset.com/sets/images/10581-1...</td>\n",
       "      <td>9.99</td>\n",
       "      <td>9.99</td>\n",
       "      <td>12.99</td>\n",
       "      <td>9.99</td>\n",
       "      <td>Box</td>\n",
       "      <td>Retail</td>\n",
       "    </tr>\n",
       "  </tbody>\n",
       "</table>\n",
       "</div>"
      ],
      "text/plain": [
       "  Item_Number                Name  Year            Theme           Subtheme  \\\n",
       "0       10246  Detective's Office  2015  Advanced Models  Modular Buildings   \n",
       "1       10247        Ferris Wheel  2015  Advanced Models         Fairground   \n",
       "2       10248         Ferrari F40  2015  Advanced Models           Vehicles   \n",
       "3       10249            Toy Shop  2015  Advanced Models     Winter Village   \n",
       "4       10581               Ducks  2015            Duplo     Forest Animals   \n",
       "\n",
       "   Pieces  Minifigures                                          Image_URL  \\\n",
       "0  2262.0          6.0  http://images.brickset.com/sets/images/10246-1...   \n",
       "1  2464.0         10.0  http://images.brickset.com/sets/images/10247-1...   \n",
       "2  1158.0          NaN  http://images.brickset.com/sets/images/10248-1...   \n",
       "3   898.0          NaN  http://images.brickset.com/sets/images/10249-1...   \n",
       "4    13.0          1.0  http://images.brickset.com/sets/images/10581-1...   \n",
       "\n",
       "   GBP_MSRP  USD_MSRP  CAD_MSRP  EUR_MSRP Packaging      Availability  \n",
       "0    132.99    159.99    199.99    149.99       Box  Retail - limited  \n",
       "1    149.99    199.99    229.99    179.99       Box  Retail - limited  \n",
       "2     69.99     99.99    119.99     89.99       Box    LEGO exclusive  \n",
       "3     59.99     79.99       NaN     69.99       Box    LEGO exclusive  \n",
       "4      9.99      9.99     12.99      9.99       Box            Retail  "
      ]
     },
     "execution_count": 102,
     "metadata": {},
     "output_type": "execute_result"
    }
   ],
   "source": [
    "lego2.head()"
   ]
  },
  {
   "cell_type": "markdown",
   "metadata": {},
   "source": [
    "## 2. Data cleaning\n",
    "* Checking missing values \n",
    "* Checking whether there are duplicates\n",
    "* Cleaning column per column\n",
    "* Creating dummies for non-numerical columns\n",
    "* Transforming numerical columns to be normally distributed\n",
    "* Identifying outliers"
   ]
  },
  {
   "cell_type": "markdown",
   "metadata": {},
   "source": [
    "### 2.1. Checking missing values"
   ]
  },
  {
   "cell_type": "code",
   "execution_count": 103,
   "metadata": {},
   "outputs": [],
   "source": [
    "missing = lego2.isna().sum()"
   ]
  },
  {
   "cell_type": "code",
   "execution_count": 104,
   "metadata": {},
   "outputs": [
    {
     "data": {
      "text/plain": [
       "Subtheme       2206\n",
       "Pieces          112\n",
       "Minifigures    2672\n",
       "GBP_MSRP       1980\n",
       "USD_MSRP        355\n",
       "CAD_MSRP       4190\n",
       "EUR_MSRP       4399\n",
       "dtype: int64"
      ]
     },
     "execution_count": 104,
     "metadata": {},
     "output_type": "execute_result"
    }
   ],
   "source": [
    "missing[missing > 0]"
   ]
  },
  {
   "cell_type": "markdown",
   "metadata": {},
   "source": [
    "7 columns have missing rows"
   ]
  },
  {
   "cell_type": "markdown",
   "metadata": {},
   "source": [
    "### 2.2. Checking duplicate rows"
   ]
  },
  {
   "cell_type": "code",
   "execution_count": 105,
   "metadata": {},
   "outputs": [
    {
     "data": {
      "text/html": [
       "<div>\n",
       "<style scoped>\n",
       "    .dataframe tbody tr th:only-of-type {\n",
       "        vertical-align: middle;\n",
       "    }\n",
       "\n",
       "    .dataframe tbody tr th {\n",
       "        vertical-align: top;\n",
       "    }\n",
       "\n",
       "    .dataframe thead th {\n",
       "        text-align: right;\n",
       "    }\n",
       "</style>\n",
       "<table border=\"1\" class=\"dataframe\">\n",
       "  <thead>\n",
       "    <tr style=\"text-align: right;\">\n",
       "      <th></th>\n",
       "      <th>Item_Number</th>\n",
       "      <th>Name</th>\n",
       "      <th>Year</th>\n",
       "      <th>Theme</th>\n",
       "      <th>Subtheme</th>\n",
       "      <th>Pieces</th>\n",
       "      <th>Minifigures</th>\n",
       "      <th>Image_URL</th>\n",
       "      <th>GBP_MSRP</th>\n",
       "      <th>USD_MSRP</th>\n",
       "      <th>CAD_MSRP</th>\n",
       "      <th>EUR_MSRP</th>\n",
       "      <th>Packaging</th>\n",
       "      <th>Availability</th>\n",
       "    </tr>\n",
       "  </thead>\n",
       "  <tbody>\n",
       "    <tr>\n",
       "      <th>296</th>\n",
       "      <td>71008</td>\n",
       "      <td>Classic King</td>\n",
       "      <td>2015</td>\n",
       "      <td>Collectable Minifigures</td>\n",
       "      <td>Series 13</td>\n",
       "      <td>9.0</td>\n",
       "      <td>1.0</td>\n",
       "      <td>http://images.brickset.com/sets/images/71008-1...</td>\n",
       "      <td>2.49</td>\n",
       "      <td>3.99</td>\n",
       "      <td>NaN</td>\n",
       "      <td>NaN</td>\n",
       "      <td>Foil pack</td>\n",
       "      <td>Retail</td>\n",
       "    </tr>\n",
       "    <tr>\n",
       "      <th>297</th>\n",
       "      <td>71008</td>\n",
       "      <td>Sheriff</td>\n",
       "      <td>2015</td>\n",
       "      <td>Collectable Minifigures</td>\n",
       "      <td>Series 13</td>\n",
       "      <td>8.0</td>\n",
       "      <td>1.0</td>\n",
       "      <td>http://images.brickset.com/sets/images/71008-2...</td>\n",
       "      <td>2.49</td>\n",
       "      <td>3.99</td>\n",
       "      <td>NaN</td>\n",
       "      <td>NaN</td>\n",
       "      <td>Foil pack</td>\n",
       "      <td>Retail</td>\n",
       "    </tr>\n",
       "    <tr>\n",
       "      <th>298</th>\n",
       "      <td>71008</td>\n",
       "      <td>Unicorn Girl</td>\n",
       "      <td>2015</td>\n",
       "      <td>Collectable Minifigures</td>\n",
       "      <td>Series 13</td>\n",
       "      <td>6.0</td>\n",
       "      <td>1.0</td>\n",
       "      <td>http://images.brickset.com/sets/images/71008-3...</td>\n",
       "      <td>2.49</td>\n",
       "      <td>3.99</td>\n",
       "      <td>NaN</td>\n",
       "      <td>NaN</td>\n",
       "      <td>Foil pack</td>\n",
       "      <td>Retail</td>\n",
       "    </tr>\n",
       "    <tr>\n",
       "      <th>299</th>\n",
       "      <td>71008</td>\n",
       "      <td>Snake Charmer</td>\n",
       "      <td>2015</td>\n",
       "      <td>Collectable Minifigures</td>\n",
       "      <td>Series 13</td>\n",
       "      <td>7.0</td>\n",
       "      <td>1.0</td>\n",
       "      <td>http://images.brickset.com/sets/images/71008-4...</td>\n",
       "      <td>2.49</td>\n",
       "      <td>3.99</td>\n",
       "      <td>NaN</td>\n",
       "      <td>NaN</td>\n",
       "      <td>Foil pack</td>\n",
       "      <td>Retail</td>\n",
       "    </tr>\n",
       "    <tr>\n",
       "      <th>300</th>\n",
       "      <td>71008</td>\n",
       "      <td>Goblin</td>\n",
       "      <td>2015</td>\n",
       "      <td>Collectable Minifigures</td>\n",
       "      <td>Series 13</td>\n",
       "      <td>7.0</td>\n",
       "      <td>1.0</td>\n",
       "      <td>http://images.brickset.com/sets/images/71008-5...</td>\n",
       "      <td>2.49</td>\n",
       "      <td>3.99</td>\n",
       "      <td>NaN</td>\n",
       "      <td>NaN</td>\n",
       "      <td>Foil pack</td>\n",
       "      <td>Retail</td>\n",
       "    </tr>\n",
       "  </tbody>\n",
       "</table>\n",
       "</div>"
      ],
      "text/plain": [
       "    Item_Number           Name  Year                    Theme   Subtheme  \\\n",
       "296       71008   Classic King  2015  Collectable Minifigures  Series 13   \n",
       "297       71008        Sheriff  2015  Collectable Minifigures  Series 13   \n",
       "298       71008   Unicorn Girl  2015  Collectable Minifigures  Series 13   \n",
       "299       71008  Snake Charmer  2015  Collectable Minifigures  Series 13   \n",
       "300       71008         Goblin  2015  Collectable Minifigures  Series 13   \n",
       "\n",
       "     Pieces  Minifigures                                          Image_URL  \\\n",
       "296     9.0          1.0  http://images.brickset.com/sets/images/71008-1...   \n",
       "297     8.0          1.0  http://images.brickset.com/sets/images/71008-2...   \n",
       "298     6.0          1.0  http://images.brickset.com/sets/images/71008-3...   \n",
       "299     7.0          1.0  http://images.brickset.com/sets/images/71008-4...   \n",
       "300     7.0          1.0  http://images.brickset.com/sets/images/71008-5...   \n",
       "\n",
       "     GBP_MSRP  USD_MSRP  CAD_MSRP  EUR_MSRP  Packaging Availability  \n",
       "296      2.49      3.99       NaN       NaN  Foil pack       Retail  \n",
       "297      2.49      3.99       NaN       NaN  Foil pack       Retail  \n",
       "298      2.49      3.99       NaN       NaN  Foil pack       Retail  \n",
       "299      2.49      3.99       NaN       NaN  Foil pack       Retail  \n",
       "300      2.49      3.99       NaN       NaN  Foil pack       Retail  "
      ]
     },
     "execution_count": 105,
     "metadata": {},
     "output_type": "execute_result"
    }
   ],
   "source": [
    "duplicates=lego2.loc[lego2.Item_Number.duplicated()==True]\n",
    "duplicates.head()"
   ]
  },
  {
   "cell_type": "code",
   "execution_count": 106,
   "metadata": {},
   "outputs": [
    {
     "data": {
      "text/html": [
       "<div>\n",
       "<style scoped>\n",
       "    .dataframe tbody tr th:only-of-type {\n",
       "        vertical-align: middle;\n",
       "    }\n",
       "\n",
       "    .dataframe tbody tr th {\n",
       "        vertical-align: top;\n",
       "    }\n",
       "\n",
       "    .dataframe thead th {\n",
       "        text-align: right;\n",
       "    }\n",
       "</style>\n",
       "<table border=\"1\" class=\"dataframe\">\n",
       "  <thead>\n",
       "    <tr style=\"text-align: right;\">\n",
       "      <th></th>\n",
       "      <th>Item_Number</th>\n",
       "      <th>Name</th>\n",
       "      <th>Year</th>\n",
       "      <th>Theme</th>\n",
       "      <th>Subtheme</th>\n",
       "      <th>Pieces</th>\n",
       "      <th>Minifigures</th>\n",
       "      <th>Image_URL</th>\n",
       "      <th>GBP_MSRP</th>\n",
       "      <th>USD_MSRP</th>\n",
       "      <th>CAD_MSRP</th>\n",
       "      <th>EUR_MSRP</th>\n",
       "      <th>Packaging</th>\n",
       "      <th>Availability</th>\n",
       "    </tr>\n",
       "  </thead>\n",
       "  <tbody>\n",
       "    <tr>\n",
       "      <th>3278</th>\n",
       "      <td>4105</td>\n",
       "      <td>50th Anniversary Bucket</td>\n",
       "      <td>2005</td>\n",
       "      <td>Make and Create</td>\n",
       "      <td>NaN</td>\n",
       "      <td>500.0</td>\n",
       "      <td>NaN</td>\n",
       "      <td>http://images.brickset.com/sets/images/4105-2.jpg</td>\n",
       "      <td>9.99</td>\n",
       "      <td>10.0</td>\n",
       "      <td>NaN</td>\n",
       "      <td>NaN</td>\n",
       "      <td>Not specified</td>\n",
       "      <td>Not specified</td>\n",
       "    </tr>\n",
       "    <tr>\n",
       "      <th>4121</th>\n",
       "      <td>4105</td>\n",
       "      <td>Creator Bucket</td>\n",
       "      <td>2002</td>\n",
       "      <td>Creator</td>\n",
       "      <td>NaN</td>\n",
       "      <td>500.0</td>\n",
       "      <td>NaN</td>\n",
       "      <td>http://images.brickset.com/sets/images/4105-1.jpg</td>\n",
       "      <td>9.99</td>\n",
       "      <td>10.0</td>\n",
       "      <td>NaN</td>\n",
       "      <td>NaN</td>\n",
       "      <td>Bucket</td>\n",
       "      <td>Retail</td>\n",
       "    </tr>\n",
       "  </tbody>\n",
       "</table>\n",
       "</div>"
      ],
      "text/plain": [
       "     Item_Number                     Name  Year            Theme Subtheme  \\\n",
       "3278        4105  50th Anniversary Bucket  2005  Make and Create      NaN   \n",
       "4121        4105           Creator Bucket  2002          Creator      NaN   \n",
       "\n",
       "      Pieces  Minifigures                                          Image_URL  \\\n",
       "3278   500.0          NaN  http://images.brickset.com/sets/images/4105-2.jpg   \n",
       "4121   500.0          NaN  http://images.brickset.com/sets/images/4105-1.jpg   \n",
       "\n",
       "      GBP_MSRP  USD_MSRP  CAD_MSRP  EUR_MSRP      Packaging   Availability  \n",
       "3278      9.99      10.0       NaN       NaN  Not specified  Not specified  \n",
       "4121      9.99      10.0       NaN       NaN         Bucket         Retail  "
      ]
     },
     "execution_count": 106,
     "metadata": {},
     "output_type": "execute_result"
    }
   ],
   "source": [
    "duplicates.loc[duplicates.Name.duplicated()==True]"
   ]
  },
  {
   "cell_type": "markdown",
   "metadata": {},
   "source": [
    "Conclusion: There are no real duplicates as all duplicates in Item_number actually have different names. No actions are taken on this"
   ]
  },
  {
   "cell_type": "markdown",
   "metadata": {},
   "source": [
    "### 2.3. Cleaning column per column"
   ]
  },
  {
   "cell_type": "markdown",
   "metadata": {},
   "source": [
    "#### a. Cleaning currency columns "
   ]
  },
  {
   "cell_type": "code",
   "execution_count": 107,
   "metadata": {},
   "outputs": [],
   "source": [
    "# drop price columns\n",
    "lego2.drop(\"GBP_MSRP\", axis=1, inplace=True)\n",
    "lego2.drop(\"CAD_MSRP\", axis=1, inplace=True)\n",
    "lego2.drop(\"EUR_MSRP\", axis=1, inplace=True)"
   ]
  },
  {
   "cell_type": "code",
   "execution_count": 108,
   "metadata": {},
   "outputs": [],
   "source": [
    "# drop nan rows in USD\n",
    "lego2 = lego2[lego2.USD_MSRP.notna()]"
   ]
  },
  {
   "cell_type": "code",
   "execution_count": 109,
   "metadata": {},
   "outputs": [],
   "source": [
    "# drop 0 rows in USD\n",
    "lego2 = lego2[lego2.USD_MSRP > 0]"
   ]
  },
  {
   "cell_type": "code",
   "execution_count": 110,
   "metadata": {},
   "outputs": [],
   "source": [
    "# renaming the column USD \n",
    "lego2.rename(columns = {\"USD_MSRP\":\"Price_USD\"}, inplace=True)"
   ]
  },
  {
   "cell_type": "markdown",
   "metadata": {},
   "source": [
    "#### b. Cleaning number of pieces"
   ]
  },
  {
   "cell_type": "code",
   "execution_count": 111,
   "metadata": {},
   "outputs": [],
   "source": [
    "# drop 0 rows in pieces\n",
    "lego2 = lego2[lego2.Pieces > 0]"
   ]
  },
  {
   "cell_type": "code",
   "execution_count": 112,
   "metadata": {},
   "outputs": [
    {
     "data": {
      "text/plain": [
       "Item_Number        0\n",
       "Name               0\n",
       "Year               0\n",
       "Theme              0\n",
       "Subtheme        1998\n",
       "Pieces             0\n",
       "Minifigures     2255\n",
       "Image_URL          0\n",
       "Price_USD          0\n",
       "Packaging          0\n",
       "Availability       0\n",
       "dtype: int64"
      ]
     },
     "execution_count": 112,
     "metadata": {},
     "output_type": "execute_result"
    }
   ],
   "source": [
    "lego2.isna().sum()"
   ]
  },
  {
   "cell_type": "code",
   "execution_count": 113,
   "metadata": {},
   "outputs": [],
   "source": [
    "# drop nan rows in piece\n",
    "lego2 = lego2[lego2.Pieces.notna()]"
   ]
  },
  {
   "cell_type": "code",
   "execution_count": 114,
   "metadata": {},
   "outputs": [
    {
     "data": {
      "text/plain": [
       "Item_Number        0\n",
       "Name               0\n",
       "Year               0\n",
       "Theme              0\n",
       "Subtheme        1998\n",
       "Pieces             0\n",
       "Minifigures     2255\n",
       "Image_URL          0\n",
       "Price_USD          0\n",
       "Packaging          0\n",
       "Availability       0\n",
       "dtype: int64"
      ]
     },
     "execution_count": 114,
     "metadata": {},
     "output_type": "execute_result"
    }
   ],
   "source": [
    "lego2.isna().sum()"
   ]
  },
  {
   "cell_type": "markdown",
   "metadata": {},
   "source": [
    "#### c. Cleaning Minifigures"
   ]
  },
  {
   "cell_type": "code",
   "execution_count": 115,
   "metadata": {},
   "outputs": [],
   "source": [
    "# drop nan for minifigures rows\n",
    "lego2 = lego2[lego2.Minifigures.notna()]"
   ]
  },
  {
   "cell_type": "code",
   "execution_count": 116,
   "metadata": {},
   "outputs": [
    {
     "data": {
      "text/plain": [
       "Item_Number       0\n",
       "Name              0\n",
       "Year              0\n",
       "Theme             0\n",
       "Subtheme        991\n",
       "Pieces            0\n",
       "Minifigures       0\n",
       "Image_URL         0\n",
       "Price_USD         0\n",
       "Packaging         0\n",
       "Availability      0\n",
       "dtype: int64"
      ]
     },
     "execution_count": 116,
     "metadata": {},
     "output_type": "execute_result"
    }
   ],
   "source": [
    "lego2.isna().sum()"
   ]
  },
  {
   "cell_type": "markdown",
   "metadata": {},
   "source": [
    "#### d. Dropping columns"
   ]
  },
  {
   "cell_type": "code",
   "execution_count": 117,
   "metadata": {},
   "outputs": [],
   "source": [
    "# drop itemnumber, name \n",
    "lego2.drop(\"Subtheme\", axis=1, inplace=True)\n",
    "lego2.drop(\"Image_URL\", axis=1, inplace=True)\n",
    "lego2.drop(\"Item_Number\", axis=1, inplace=True)\n",
    "lego2.drop(\"Name\", axis=1, inplace=True)"
   ]
  },
  {
   "cell_type": "markdown",
   "metadata": {},
   "source": [
    "#### e. Cleaning age"
   ]
  },
  {
   "cell_type": "code",
   "execution_count": 118,
   "metadata": {},
   "outputs": [],
   "source": [
    "# create age column\n",
    "lego2[\"age\"] = datetime.now().year-lego2.Year"
   ]
  },
  {
   "cell_type": "code",
   "execution_count": 119,
   "metadata": {},
   "outputs": [],
   "source": [
    "# drop year column\n",
    "lego2.drop(\"Year\", axis=1, inplace=True)"
   ]
  },
  {
   "cell_type": "markdown",
   "metadata": {},
   "source": [
    "#### f. Cleaning Themes"
   ]
  },
  {
   "cell_type": "code",
   "execution_count": 120,
   "metadata": {},
   "outputs": [
    {
     "data": {
      "text/plain": [
       "['Duplo',\n",
       " 'Star Wars',\n",
       " 'Town',\n",
       " 'City',\n",
       " 'Collectable Minifigures',\n",
       " 'Castle',\n",
       " 'Space',\n",
       " 'Ninjago',\n",
       " 'Friends',\n",
       " 'Legends of Chima']"
      ]
     },
     "execution_count": 120,
     "metadata": {},
     "output_type": "execute_result"
    }
   ],
   "source": [
    "# regroup Themes\n",
    "lst_theme = list(lego2.Theme.value_counts().head(10).index)\n",
    "lst_theme"
   ]
  },
  {
   "cell_type": "code",
   "execution_count": 121,
   "metadata": {},
   "outputs": [],
   "source": [
    "lego2.Theme = lego2.apply(lambda row : \"Other\" if row[\"Theme\"] not in lst_theme else row[\"Theme\"], axis=1)"
   ]
  },
  {
   "cell_type": "code",
   "execution_count": 122,
   "metadata": {},
   "outputs": [
    {
     "data": {
      "text/plain": [
       "Other                      1352\n",
       "Duplo                       299\n",
       "Star Wars                   290\n",
       "Town                        283\n",
       "City                        262\n",
       "Collectable Minifigures     255\n",
       "Castle                      173\n",
       "Space                       153\n",
       "Ninjago                     111\n",
       "Friends                      87\n",
       "Legends of Chima             81\n",
       "Name: Theme, dtype: int64"
      ]
     },
     "execution_count": 122,
     "metadata": {},
     "output_type": "execute_result"
    }
   ],
   "source": [
    "lego2.Theme.value_counts()"
   ]
  },
  {
   "cell_type": "markdown",
   "metadata": {},
   "source": [
    "### 2.4. Creating dummies"
   ]
  },
  {
   "cell_type": "code",
   "execution_count": 123,
   "metadata": {},
   "outputs": [],
   "source": [
    "dummies_list = [\"Theme\",\"Availability\",\"Packaging\"]"
   ]
  },
  {
   "cell_type": "code",
   "execution_count": 124,
   "metadata": {},
   "outputs": [],
   "source": [
    "# creating dummies for Theme, Availability, Packaging\n",
    "lego3 = pd.get_dummies(data=lego2, columns=dummies_list, drop_first=True)"
   ]
  },
  {
   "cell_type": "code",
   "execution_count": 125,
   "metadata": {},
   "outputs": [
    {
     "name": "stdout",
     "output_type": "stream",
     "text": [
      "<class 'pandas.core.frame.DataFrame'>\n",
      "Int64Index: 3346 entries, 0 to 6070\n",
      "Data columns (total 29 columns):\n",
      " #   Column                              Non-Null Count  Dtype  \n",
      "---  ------                              --------------  -----  \n",
      " 0   Pieces                              3346 non-null   float64\n",
      " 1   Minifigures                         3346 non-null   float64\n",
      " 2   Price_USD                           3346 non-null   float64\n",
      " 3   age                                 3346 non-null   int64  \n",
      " 4   Theme_City                          3346 non-null   uint8  \n",
      " 5   Theme_Collectable Minifigures       3346 non-null   uint8  \n",
      " 6   Theme_Duplo                         3346 non-null   uint8  \n",
      " 7   Theme_Friends                       3346 non-null   uint8  \n",
      " 8   Theme_Legends of Chima              3346 non-null   uint8  \n",
      " 9   Theme_Ninjago                       3346 non-null   uint8  \n",
      " 10  Theme_Other                         3346 non-null   uint8  \n",
      " 11  Theme_Space                         3346 non-null   uint8  \n",
      " 12  Theme_Star Wars                     3346 non-null   uint8  \n",
      " 13  Theme_Town                          3346 non-null   uint8  \n",
      " 14  Availability_Not specified          3346 non-null   uint8  \n",
      " 15  Availability_Promotional            3346 non-null   uint8  \n",
      " 16  Availability_Promotional (Airline)  3346 non-null   uint8  \n",
      " 17  Availability_Retail                 3346 non-null   uint8  \n",
      " 18  Availability_Retail - limited       3346 non-null   uint8  \n",
      " 19  Availability_Unknown                3346 non-null   uint8  \n",
      " 20  Packaging_Box                       3346 non-null   uint8  \n",
      " 21  Packaging_Box with backing card     3346 non-null   uint8  \n",
      " 22  Packaging_Bucket                    3346 non-null   uint8  \n",
      " 23  Packaging_Foil pack                 3346 non-null   uint8  \n",
      " 24  Packaging_Not specified             3346 non-null   uint8  \n",
      " 25  Packaging_Other                     3346 non-null   uint8  \n",
      " 26  Packaging_Plastic box               3346 non-null   uint8  \n",
      " 27  Packaging_Polybag                   3346 non-null   uint8  \n",
      " 28  Packaging_Tub                       3346 non-null   uint8  \n",
      "dtypes: float64(3), int64(1), uint8(25)\n",
      "memory usage: 212.4 KB\n"
     ]
    }
   ],
   "source": [
    "lego3.info()"
   ]
  },
  {
   "cell_type": "markdown",
   "metadata": {},
   "source": [
    "### 2.5. Transforming Numeric data into Normal Distribution\n",
    "* Looking at current numerical distribution\n",
    "* Transforming them using the boxcox method\n",
    "* Checking whether the transformed variables are normally distributed"
   ]
  },
  {
   "cell_type": "markdown",
   "metadata": {},
   "source": [
    "#### a. Checking current distribution for numerical columns\n",
    "* Number of pieces \n",
    "* Price\n",
    "* Age \n",
    "* Number of Minifigures"
   ]
  },
  {
   "cell_type": "code",
   "execution_count": 126,
   "metadata": {},
   "outputs": [
    {
     "data": {
      "text/plain": [
       "Text(0.5, 1.0, 'Distribution of number of pieces')"
      ]
     },
     "execution_count": 126,
     "metadata": {},
     "output_type": "execute_result"
    },
    {
     "data": {
      "image/png": "[encoded data removed]",
      "text/plain": [
       "<Figure size 432x288 with 1 Axes>"
      ]
     },
     "metadata": {
      "needs_background": "light"
     },
     "output_type": "display_data"
    }
   ],
   "source": [
    "# Number of pieces\n",
    "lego3.Pieces.hist(bins=100)\n",
    "plt.ylabel(\"Number of sets\")\n",
    "plt.xlabel(\"Number of pieces\")\n",
    "plt.title(\"Distribution of number of pieces\", fontsize=15)"
   ]
  },
  {
   "cell_type": "code",
   "execution_count": 127,
   "metadata": {},
   "outputs": [
    {
     "data": {
      "text/plain": [
       "Text(0.5, 1.0, 'Distribution of prices')"
      ]
     },
     "execution_count": 127,
     "metadata": {},
     "output_type": "execute_result"
    },
    {
     "data": {
      "image/png": "[encoded data removed]",
      "text/plain": [
       "<Figure size 432x288 with 1 Axes>"
      ]
     },
     "metadata": {
      "needs_background": "light"
     },
     "output_type": "display_data"
    }
   ],
   "source": [
    "#Prices\n",
    "lego3.Price_USD.hist(bins=100)\n",
    "plt.ylabel(\"Number of sets\")\n",
    "plt.xlabel(\"Price\")\n",
    "plt.title(\"Distribution of prices\", fontsize=15)"
   ]
  },
  {
   "cell_type": "code",
   "execution_count": 128,
   "metadata": {},
   "outputs": [
    {
     "data": {
      "text/plain": [
       "Text(0.5, 1.0, 'Distribution of ages')"
      ]
     },
     "execution_count": 128,
     "metadata": {},
     "output_type": "execute_result"
    },
    {
     "data": {
      "image/png": "[encoded data removed]",
      "text/plain": [
       "<Figure size 432x288 with 1 Axes>"
      ]
     },
     "metadata": {
      "needs_background": "light"
     },
     "output_type": "display_data"
    }
   ],
   "source": [
    "# Age\n",
    "lego3.age.hist(bins=100)\n",
    "plt.ylabel(\"Number of sets\")\n",
    "plt.xlabel(\"Age\")\n",
    "plt.title(\"Distribution of ages\", fontsize=15)"
   ]
  },
  {
   "cell_type": "code",
   "execution_count": 129,
   "metadata": {},
   "outputs": [
    {
     "data": {
      "text/plain": [
       "Text(0.5, 1.0, 'Distribution of number of minifigures')"
      ]
     },
     "execution_count": 129,
     "metadata": {},
     "output_type": "execute_result"
    },
    {
     "data": {
      "image/png": "[encoded data removed]",
      "text/plain": [
       "<Figure size 432x288 with 1 Axes>"
      ]
     },
     "metadata": {
      "needs_background": "light"
     },
     "output_type": "display_data"
    }
   ],
   "source": [
    "#Minifigures\n",
    "lego3.Minifigures.hist(bins=100)\n",
    "plt.ylabel(\"Number of sets\")\n",
    "plt.xlabel(\"Number of Minifigures\")\n",
    "plt.title(\"Distribution of number of minifigures\", fontsize=15)"
   ]
  },
  {
   "cell_type": "markdown",
   "metadata": {},
   "source": [
    "None of them are normally distributed"
   ]
  },
  {
   "cell_type": "markdown",
   "metadata": {},
   "source": [
    "#### b. Transforming them to be normally distributed"
   ]
  },
  {
   "cell_type": "code",
   "execution_count": 130,
   "metadata": {},
   "outputs": [],
   "source": [
    "# transform numeric columns to normal distribution\n",
    "lego3[\"Pieces2\"] = boxcox(lego3.Pieces, 0)\n",
    "lego3[\"Price_USD2\"] = boxcox(lego3.Price_USD, 0)\n",
    "lego3[\"age2\"] = boxcox(lego3.age, 0)\n",
    "lego3[\"Minifigures2\"] = boxcox(lego3.Minifigures, 0)"
   ]
  },
  {
   "cell_type": "markdown",
   "metadata": {},
   "source": [
    "#### c. Checking the new distribution"
   ]
  },
  {
   "cell_type": "code",
   "execution_count": 131,
   "metadata": {},
   "outputs": [
    {
     "data": {
      "text/plain": [
       "Text(0.5, 1.0, 'Distribution of number of pieces - transformed')"
      ]
     },
     "execution_count": 131,
     "metadata": {},
     "output_type": "execute_result"
    },
    {
     "data": {
      "image/png": "[encoded data removed]",
      "text/plain": [
       "<Figure size 432x288 with 1 Axes>"
      ]
     },
     "metadata": {
      "needs_background": "light"
     },
     "output_type": "display_data"
    }
   ],
   "source": [
    "# Number of pieces\n",
    "lego3.Pieces2.hist(bins=100)\n",
    "plt.ylabel(\"Number of sets\")\n",
    "plt.xlabel(\"Number of pieces\")\n",
    "plt.title(\"Distribution of number of pieces - transformed\", fontsize=15)"
   ]
  },
  {
   "cell_type": "code",
   "execution_count": 132,
   "metadata": {},
   "outputs": [
    {
     "data": {
      "text/plain": [
       "Text(0.5, 1.0, 'Distribution of prices - transformed')"
      ]
     },
     "execution_count": 132,
     "metadata": {},
     "output_type": "execute_result"
    },
    {
     "data": {
      "image/png": "[encoded data removed]",
      "text/plain": [
       "<Figure size 432x288 with 1 Axes>"
      ]
     },
     "metadata": {
      "needs_background": "light"
     },
     "output_type": "display_data"
    }
   ],
   "source": [
    "lego3.Price_USD2.hist(bins=100)\n",
    "plt.ylabel(\"Number of sets\")\n",
    "plt.xlabel(\"Price\")\n",
    "plt.title(\"Distribution of prices - transformed\", fontsize=15)"
   ]
  },
  {
   "cell_type": "code",
   "execution_count": 133,
   "metadata": {},
   "outputs": [
    {
     "data": {
      "text/plain": [
       "Text(0.5, 1.0, 'Distribution of ages')"
      ]
     },
     "execution_count": 133,
     "metadata": {},
     "output_type": "execute_result"
    },
    {
     "data": {
      "image/png": "[encoded data removed]",
      "text/plain": [
       "<Figure size 432x288 with 1 Axes>"
      ]
     },
     "metadata": {
      "needs_background": "light"
     },
     "output_type": "display_data"
    }
   ],
   "source": [
    "# Ages\n",
    "lego3.age2.hist(bins=100)\n",
    "plt.ylabel(\"Number of sets\")\n",
    "plt.xlabel(\"Age\")\n",
    "plt.title(\"Distribution of ages\", fontsize=15)"
   ]
  },
  {
   "cell_type": "code",
   "execution_count": 135,
   "metadata": {},
   "outputs": [
    {
     "data": {
      "text/plain": [
       "Text(0.5, 1.0, 'Distribution of Minifigures')"
      ]
     },
     "execution_count": 135,
     "metadata": {},
     "output_type": "execute_result"
    },
    {
     "data": {
      "image/png": "[encoded data removed]",
      "text/plain": [
       "<Figure size 432x288 with 1 Axes>"
      ]
     },
     "metadata": {
      "needs_background": "light"
     },
     "output_type": "display_data"
    }
   ],
   "source": [
    "# Minifigures\n",
    "lego3.Minifigures2.hist(bins=100)\n",
    "plt.ylabel(\"Number of sets\")\n",
    "plt.xlabel(\"Minifigures2\")\n",
    "plt.title(\"Distribution of Minifigures\", fontsize=15)"
   ]
  },
  {
   "cell_type": "code",
   "execution_count": 134,
   "metadata": {},
   "outputs": [],
   "source": [
    "lego4 = lego3.drop([\"Pieces\",\"Price_USD\",\"age\",\"Minifigures\"], axis=1)"
   ]
  },
  {
   "cell_type": "markdown",
   "metadata": {},
   "source": [
    "### 2.6. Identifying outliers"
   ]
  },
  {
   "cell_type": "markdown",
   "metadata": {},
   "source": [
    "#### a. Prices outliers"
   ]
  },
  {
   "cell_type": "code",
   "execution_count": 136,
   "metadata": {},
   "outputs": [
    {
     "data": {
      "text/plain": [
       "1.609187881178891"
      ]
     },
     "execution_count": 136,
     "metadata": {},
     "output_type": "execute_result"
    }
   ],
   "source": [
    "Q1_Price= lego4.Price_USD2.quantile(0.25)\n",
    "Q3_Price = lego4.Price_USD2.quantile(0.75)\n",
    "IQR_Price = Q3_Price - Q1_Price\n",
    "IQR_Price"
   ]
  },
  {
   "cell_type": "code",
   "execution_count": 137,
   "metadata": {},
   "outputs": [],
   "source": [
    "Outlierbottom_Price=Q1_Price-IQR_Price*1.5"
   ]
  },
  {
   "cell_type": "code",
   "execution_count": 138,
   "metadata": {},
   "outputs": [],
   "source": [
    "Outliertop_Price=Q3_Price+IQR_Price*1.5"
   ]
  },
  {
   "cell_type": "code",
   "execution_count": 139,
   "metadata": {},
   "outputs": [
    {
     "data": {
      "text/plain": [
       "Text(0.5, 1.0, 'Price outliers')"
      ]
     },
     "execution_count": 139,
     "metadata": {},
     "output_type": "execute_result"
    },
    {
     "data": {
      "image/png": "[encoded data removed]",
      "text/plain": [
       "<Figure size 432x288 with 1 Axes>"
      ]
     },
     "metadata": {
      "needs_background": "light"
     },
     "output_type": "display_data"
    }
   ],
   "source": [
    "lego4.boxplot(column=['Price_USD2'])\n",
    "plt.title(\"Price outliers\", fontsize=15)"
   ]
  },
  {
   "cell_type": "markdown",
   "metadata": {},
   "source": [
    "#### b. Number of pieces outliers"
   ]
  },
  {
   "cell_type": "code",
   "execution_count": 140,
   "metadata": {},
   "outputs": [
    {
     "data": {
      "text/plain": [
       "2.1832373046022093"
      ]
     },
     "execution_count": 140,
     "metadata": {},
     "output_type": "execute_result"
    }
   ],
   "source": [
    "#Identifying outliers for Pieces\n",
    "Q1_Piece = lego4.Pieces2.quantile(0.25)\n",
    "Q3_Piece = lego4.Pieces2.quantile(0.75)\n",
    "IQR_Piece = Q3_Piece - Q1_Piece\n",
    "IQR_Piece"
   ]
  },
  {
   "cell_type": "code",
   "execution_count": 141,
   "metadata": {},
   "outputs": [],
   "source": [
    "Outlierbottom_Piece=Q1_Piece-IQR_Piece*1.5"
   ]
  },
  {
   "cell_type": "code",
   "execution_count": 142,
   "metadata": {},
   "outputs": [],
   "source": [
    "Outliertop_Piece=Q3_Piece+IQR_Piece*1.5"
   ]
  },
  {
   "cell_type": "code",
   "execution_count": 143,
   "metadata": {},
   "outputs": [
    {
     "data": {
      "text/plain": [
       "Text(0.5, 1.0, 'Number of pieces outliers')"
      ]
     },
     "execution_count": 143,
     "metadata": {},
     "output_type": "execute_result"
    },
    {
     "data": {
      "image/png": "[encoded data removed]",
      "text/plain": [
       "<Figure size 432x288 with 1 Axes>"
      ]
     },
     "metadata": {
      "needs_background": "light"
     },
     "output_type": "display_data"
    }
   ],
   "source": [
    "lego4.boxplot(column=['Pieces2'])\n",
    "plt.title(\"Number of pieces outliers\", fontsize=15)"
   ]
  },
  {
   "cell_type": "markdown",
   "metadata": {},
   "source": [
    "#### c. Minifigures outliers"
   ]
  },
  {
   "cell_type": "code",
   "execution_count": 144,
   "metadata": {},
   "outputs": [
    {
     "data": {
      "text/plain": [
       "1.3862943611198906"
      ]
     },
     "execution_count": 144,
     "metadata": {},
     "output_type": "execute_result"
    }
   ],
   "source": [
    "#Identifying outliers for Pieces\n",
    "Q1_Mini = lego4.Minifigures2.quantile(0.25)\n",
    "Q3_Mini = lego4.Minifigures2.quantile(0.75)\n",
    "IQR_Mini = Q3_Mini - Q1_Mini\n",
    "IQR_Mini"
   ]
  },
  {
   "cell_type": "code",
   "execution_count": 145,
   "metadata": {},
   "outputs": [
    {
     "data": {
      "text/plain": [
       "-2.0794415416798357"
      ]
     },
     "execution_count": 145,
     "metadata": {},
     "output_type": "execute_result"
    }
   ],
   "source": [
    "Outlierbottom_Mini=Q1_Mini-IQR_Mini*1.5\n",
    "Outlierbottom_Mini"
   ]
  },
  {
   "cell_type": "code",
   "execution_count": 146,
   "metadata": {},
   "outputs": [
    {
     "data": {
      "text/plain": [
       "3.465735902799726"
      ]
     },
     "execution_count": 146,
     "metadata": {},
     "output_type": "execute_result"
    }
   ],
   "source": [
    "Outliertop_Mini=Q3_Mini+IQR_Mini*1.5\n",
    "Outliertop_Mini"
   ]
  },
  {
   "cell_type": "code",
   "execution_count": 147,
   "metadata": {},
   "outputs": [
    {
     "data": {
      "text/plain": [
       "<matplotlib.axes._subplots.AxesSubplot at 0x236538efcc8>"
      ]
     },
     "execution_count": 147,
     "metadata": {},
     "output_type": "execute_result"
    },
    {
     "data": {
      "image/png": "[encoded data removed]",
      "text/plain": [
       "<Figure size 432x288 with 1 Axes>"
      ]
     },
     "metadata": {
      "needs_background": "light"
     },
     "output_type": "display_data"
    }
   ],
   "source": [
    "lego4.boxplot(column=['Minifigures2'])"
   ]
  },
  {
   "cell_type": "markdown",
   "metadata": {},
   "source": [
    "#### d. Creating booleans columns for outliers"
   ]
  },
  {
   "cell_type": "code",
   "execution_count": 148,
   "metadata": {},
   "outputs": [],
   "source": [
    "lego4[\"Outliers_Price\"]=lego4.apply(lambda row : 0 if Outlierbottom_Price<row.Price_USD2<Outliertop_Price  else 1, axis=1)\n",
    "lego4[\"Outliers_Piece\"]=lego4.apply(lambda row : 0 if Outlierbottom_Piece<row.Pieces2<Outliertop_Piece  else 1, axis=1)\n",
    "lego4[\"Outliers_Minifigures\"]=lego4.apply(lambda row : 0 if Outlierbottom_Mini<row.Minifigures2<Outliertop_Mini  else 1, axis=1)"
   ]
  },
  {
   "cell_type": "code",
   "execution_count": 149,
   "metadata": {
    "scrolled": true
   },
   "outputs": [
    {
     "data": {
      "text/html": [
       "<div>\n",
       "<style scoped>\n",
       "    .dataframe tbody tr th:only-of-type {\n",
       "        vertical-align: middle;\n",
       "    }\n",
       "\n",
       "    .dataframe tbody tr th {\n",
       "        vertical-align: top;\n",
       "    }\n",
       "\n",
       "    .dataframe thead th {\n",
       "        text-align: right;\n",
       "    }\n",
       "</style>\n",
       "<table border=\"1\" class=\"dataframe\">\n",
       "  <thead>\n",
       "    <tr style=\"text-align: right;\">\n",
       "      <th></th>\n",
       "      <th>Theme_City</th>\n",
       "      <th>Theme_Collectable Minifigures</th>\n",
       "      <th>Theme_Duplo</th>\n",
       "      <th>Theme_Friends</th>\n",
       "      <th>Theme_Legends of Chima</th>\n",
       "      <th>Theme_Ninjago</th>\n",
       "      <th>Theme_Other</th>\n",
       "      <th>Theme_Space</th>\n",
       "      <th>Theme_Star Wars</th>\n",
       "      <th>Theme_Town</th>\n",
       "      <th>...</th>\n",
       "      <th>Packaging_Plastic box</th>\n",
       "      <th>Packaging_Polybag</th>\n",
       "      <th>Packaging_Tub</th>\n",
       "      <th>Pieces2</th>\n",
       "      <th>Price_USD2</th>\n",
       "      <th>age2</th>\n",
       "      <th>Minifigures2</th>\n",
       "      <th>Outliers_Price</th>\n",
       "      <th>Outliers_Piece</th>\n",
       "      <th>Outliers_Minifigures</th>\n",
       "    </tr>\n",
       "  </thead>\n",
       "  <tbody>\n",
       "    <tr>\n",
       "      <th>0</th>\n",
       "      <td>0</td>\n",
       "      <td>0</td>\n",
       "      <td>0</td>\n",
       "      <td>0</td>\n",
       "      <td>0</td>\n",
       "      <td>0</td>\n",
       "      <td>1</td>\n",
       "      <td>0</td>\n",
       "      <td>0</td>\n",
       "      <td>0</td>\n",
       "      <td>...</td>\n",
       "      <td>0</td>\n",
       "      <td>0</td>\n",
       "      <td>0</td>\n",
       "      <td>7.724005</td>\n",
       "      <td>5.075111</td>\n",
       "      <td>1.609438</td>\n",
       "      <td>1.791759</td>\n",
       "      <td>0</td>\n",
       "      <td>0</td>\n",
       "      <td>0</td>\n",
       "    </tr>\n",
       "    <tr>\n",
       "      <th>1</th>\n",
       "      <td>0</td>\n",
       "      <td>0</td>\n",
       "      <td>0</td>\n",
       "      <td>0</td>\n",
       "      <td>0</td>\n",
       "      <td>0</td>\n",
       "      <td>1</td>\n",
       "      <td>0</td>\n",
       "      <td>0</td>\n",
       "      <td>0</td>\n",
       "      <td>...</td>\n",
       "      <td>0</td>\n",
       "      <td>0</td>\n",
       "      <td>0</td>\n",
       "      <td>7.809541</td>\n",
       "      <td>5.298267</td>\n",
       "      <td>1.609438</td>\n",
       "      <td>2.302585</td>\n",
       "      <td>0</td>\n",
       "      <td>0</td>\n",
       "      <td>0</td>\n",
       "    </tr>\n",
       "    <tr>\n",
       "      <th>4</th>\n",
       "      <td>0</td>\n",
       "      <td>0</td>\n",
       "      <td>1</td>\n",
       "      <td>0</td>\n",
       "      <td>0</td>\n",
       "      <td>0</td>\n",
       "      <td>0</td>\n",
       "      <td>0</td>\n",
       "      <td>0</td>\n",
       "      <td>0</td>\n",
       "      <td>...</td>\n",
       "      <td>0</td>\n",
       "      <td>0</td>\n",
       "      <td>0</td>\n",
       "      <td>2.564949</td>\n",
       "      <td>2.301585</td>\n",
       "      <td>1.609438</td>\n",
       "      <td>0.000000</td>\n",
       "      <td>0</td>\n",
       "      <td>0</td>\n",
       "      <td>0</td>\n",
       "    </tr>\n",
       "    <tr>\n",
       "      <th>5</th>\n",
       "      <td>0</td>\n",
       "      <td>0</td>\n",
       "      <td>1</td>\n",
       "      <td>0</td>\n",
       "      <td>0</td>\n",
       "      <td>0</td>\n",
       "      <td>0</td>\n",
       "      <td>0</td>\n",
       "      <td>0</td>\n",
       "      <td>0</td>\n",
       "      <td>...</td>\n",
       "      <td>0</td>\n",
       "      <td>0</td>\n",
       "      <td>0</td>\n",
       "      <td>3.663562</td>\n",
       "      <td>2.995232</td>\n",
       "      <td>1.609438</td>\n",
       "      <td>0.693147</td>\n",
       "      <td>0</td>\n",
       "      <td>0</td>\n",
       "      <td>0</td>\n",
       "    </tr>\n",
       "    <tr>\n",
       "      <th>6</th>\n",
       "      <td>0</td>\n",
       "      <td>0</td>\n",
       "      <td>1</td>\n",
       "      <td>0</td>\n",
       "      <td>0</td>\n",
       "      <td>0</td>\n",
       "      <td>0</td>\n",
       "      <td>0</td>\n",
       "      <td>0</td>\n",
       "      <td>0</td>\n",
       "      <td>...</td>\n",
       "      <td>0</td>\n",
       "      <td>0</td>\n",
       "      <td>0</td>\n",
       "      <td>3.465736</td>\n",
       "      <td>3.218476</td>\n",
       "      <td>1.609438</td>\n",
       "      <td>0.693147</td>\n",
       "      <td>0</td>\n",
       "      <td>0</td>\n",
       "      <td>0</td>\n",
       "    </tr>\n",
       "  </tbody>\n",
       "</table>\n",
       "<p>5 rows × 32 columns</p>\n",
       "</div>"
      ],
      "text/plain": [
       "   Theme_City  Theme_Collectable Minifigures  Theme_Duplo  Theme_Friends  \\\n",
       "0           0                              0            0              0   \n",
       "1           0                              0            0              0   \n",
       "4           0                              0            1              0   \n",
       "5           0                              0            1              0   \n",
       "6           0                              0            1              0   \n",
       "\n",
       "   Theme_Legends of Chima  Theme_Ninjago  Theme_Other  Theme_Space  \\\n",
       "0                       0              0            1            0   \n",
       "1                       0              0            1            0   \n",
       "4                       0              0            0            0   \n",
       "5                       0              0            0            0   \n",
       "6                       0              0            0            0   \n",
       "\n",
       "   Theme_Star Wars  Theme_Town  ...  Packaging_Plastic box  Packaging_Polybag  \\\n",
       "0                0           0  ...                      0                  0   \n",
       "1                0           0  ...                      0                  0   \n",
       "4                0           0  ...                      0                  0   \n",
       "5                0           0  ...                      0                  0   \n",
       "6                0           0  ...                      0                  0   \n",
       "\n",
       "   Packaging_Tub   Pieces2  Price_USD2      age2  Minifigures2  \\\n",
       "0              0  7.724005    5.075111  1.609438      1.791759   \n",
       "1              0  7.809541    5.298267  1.609438      2.302585   \n",
       "4              0  2.564949    2.301585  1.609438      0.000000   \n",
       "5              0  3.663562    2.995232  1.609438      0.693147   \n",
       "6              0  3.465736    3.218476  1.609438      0.693147   \n",
       "\n",
       "   Outliers_Price  Outliers_Piece  Outliers_Minifigures  \n",
       "0               0               0                     0  \n",
       "1               0               0                     0  \n",
       "4               0               0                     0  \n",
       "5               0               0                     0  \n",
       "6               0               0                     0  \n",
       "\n",
       "[5 rows x 32 columns]"
      ]
     },
     "execution_count": 149,
     "metadata": {},
     "output_type": "execute_result"
    }
   ],
   "source": [
    "lego4.head()"
   ]
  },
  {
   "cell_type": "markdown",
   "metadata": {},
   "source": [
    "### 2.7. Drop minifigures"
   ]
  },
  {
   "cell_type": "code",
   "execution_count": 150,
   "metadata": {},
   "outputs": [],
   "source": [
    "lego5 = lego4.drop([\"Minifigures2\"], axis=1)"
   ]
  },
  {
   "cell_type": "code",
   "execution_count": 151,
   "metadata": {
    "scrolled": true
   },
   "outputs": [
    {
     "data": {
      "text/html": [
       "<div>\n",
       "<style scoped>\n",
       "    .dataframe tbody tr th:only-of-type {\n",
       "        vertical-align: middle;\n",
       "    }\n",
       "\n",
       "    .dataframe tbody tr th {\n",
       "        vertical-align: top;\n",
       "    }\n",
       "\n",
       "    .dataframe thead th {\n",
       "        text-align: right;\n",
       "    }\n",
       "</style>\n",
       "<table border=\"1\" class=\"dataframe\">\n",
       "  <thead>\n",
       "    <tr style=\"text-align: right;\">\n",
       "      <th></th>\n",
       "      <th>Theme_City</th>\n",
       "      <th>Theme_Collectable Minifigures</th>\n",
       "      <th>Theme_Duplo</th>\n",
       "      <th>Theme_Friends</th>\n",
       "      <th>Theme_Legends of Chima</th>\n",
       "      <th>Theme_Ninjago</th>\n",
       "      <th>Theme_Other</th>\n",
       "      <th>Theme_Space</th>\n",
       "      <th>Theme_Star Wars</th>\n",
       "      <th>Theme_Town</th>\n",
       "      <th>...</th>\n",
       "      <th>Packaging_Other</th>\n",
       "      <th>Packaging_Plastic box</th>\n",
       "      <th>Packaging_Polybag</th>\n",
       "      <th>Packaging_Tub</th>\n",
       "      <th>Pieces2</th>\n",
       "      <th>Price_USD2</th>\n",
       "      <th>age2</th>\n",
       "      <th>Outliers_Price</th>\n",
       "      <th>Outliers_Piece</th>\n",
       "      <th>Outliers_Minifigures</th>\n",
       "    </tr>\n",
       "  </thead>\n",
       "  <tbody>\n",
       "    <tr>\n",
       "      <th>8</th>\n",
       "      <td>0</td>\n",
       "      <td>0</td>\n",
       "      <td>1</td>\n",
       "      <td>0</td>\n",
       "      <td>0</td>\n",
       "      <td>0</td>\n",
       "      <td>0</td>\n",
       "      <td>0</td>\n",
       "      <td>0</td>\n",
       "      <td>0</td>\n",
       "      <td>...</td>\n",
       "      <td>0</td>\n",
       "      <td>0</td>\n",
       "      <td>0</td>\n",
       "      <td>0</td>\n",
       "      <td>2.564949</td>\n",
       "      <td>2.301585</td>\n",
       "      <td>1.609438</td>\n",
       "      <td>0</td>\n",
       "      <td>0</td>\n",
       "      <td>0</td>\n",
       "    </tr>\n",
       "    <tr>\n",
       "      <th>11</th>\n",
       "      <td>0</td>\n",
       "      <td>0</td>\n",
       "      <td>1</td>\n",
       "      <td>0</td>\n",
       "      <td>0</td>\n",
       "      <td>0</td>\n",
       "      <td>0</td>\n",
       "      <td>0</td>\n",
       "      <td>0</td>\n",
       "      <td>0</td>\n",
       "      <td>...</td>\n",
       "      <td>0</td>\n",
       "      <td>0</td>\n",
       "      <td>0</td>\n",
       "      <td>0</td>\n",
       "      <td>2.564949</td>\n",
       "      <td>2.707383</td>\n",
       "      <td>1.609438</td>\n",
       "      <td>0</td>\n",
       "      <td>0</td>\n",
       "      <td>0</td>\n",
       "    </tr>\n",
       "    <tr>\n",
       "      <th>65</th>\n",
       "      <td>0</td>\n",
       "      <td>0</td>\n",
       "      <td>0</td>\n",
       "      <td>0</td>\n",
       "      <td>1</td>\n",
       "      <td>0</td>\n",
       "      <td>0</td>\n",
       "      <td>0</td>\n",
       "      <td>0</td>\n",
       "      <td>0</td>\n",
       "      <td>...</td>\n",
       "      <td>0</td>\n",
       "      <td>0</td>\n",
       "      <td>1</td>\n",
       "      <td>0</td>\n",
       "      <td>3.663562</td>\n",
       "      <td>1.383791</td>\n",
       "      <td>1.609438</td>\n",
       "      <td>0</td>\n",
       "      <td>0</td>\n",
       "      <td>0</td>\n",
       "    </tr>\n",
       "    <tr>\n",
       "      <th>119</th>\n",
       "      <td>0</td>\n",
       "      <td>0</td>\n",
       "      <td>0</td>\n",
       "      <td>1</td>\n",
       "      <td>0</td>\n",
       "      <td>0</td>\n",
       "      <td>0</td>\n",
       "      <td>0</td>\n",
       "      <td>0</td>\n",
       "      <td>0</td>\n",
       "      <td>...</td>\n",
       "      <td>0</td>\n",
       "      <td>0</td>\n",
       "      <td>0</td>\n",
       "      <td>0</td>\n",
       "      <td>4.465908</td>\n",
       "      <td>2.301585</td>\n",
       "      <td>1.609438</td>\n",
       "      <td>0</td>\n",
       "      <td>0</td>\n",
       "      <td>0</td>\n",
       "    </tr>\n",
       "    <tr>\n",
       "      <th>124</th>\n",
       "      <td>0</td>\n",
       "      <td>0</td>\n",
       "      <td>0</td>\n",
       "      <td>1</td>\n",
       "      <td>0</td>\n",
       "      <td>0</td>\n",
       "      <td>0</td>\n",
       "      <td>0</td>\n",
       "      <td>0</td>\n",
       "      <td>0</td>\n",
       "      <td>...</td>\n",
       "      <td>0</td>\n",
       "      <td>0</td>\n",
       "      <td>0</td>\n",
       "      <td>0</td>\n",
       "      <td>4.584967</td>\n",
       "      <td>2.301585</td>\n",
       "      <td>1.609438</td>\n",
       "      <td>0</td>\n",
       "      <td>0</td>\n",
       "      <td>0</td>\n",
       "    </tr>\n",
       "    <tr>\n",
       "      <th>...</th>\n",
       "      <td>...</td>\n",
       "      <td>...</td>\n",
       "      <td>...</td>\n",
       "      <td>...</td>\n",
       "      <td>...</td>\n",
       "      <td>...</td>\n",
       "      <td>...</td>\n",
       "      <td>...</td>\n",
       "      <td>...</td>\n",
       "      <td>...</td>\n",
       "      <td>...</td>\n",
       "      <td>...</td>\n",
       "      <td>...</td>\n",
       "      <td>...</td>\n",
       "      <td>...</td>\n",
       "      <td>...</td>\n",
       "      <td>...</td>\n",
       "      <td>...</td>\n",
       "      <td>...</td>\n",
       "      <td>...</td>\n",
       "      <td>...</td>\n",
       "    </tr>\n",
       "    <tr>\n",
       "      <th>6030</th>\n",
       "      <td>0</td>\n",
       "      <td>0</td>\n",
       "      <td>0</td>\n",
       "      <td>0</td>\n",
       "      <td>0</td>\n",
       "      <td>0</td>\n",
       "      <td>0</td>\n",
       "      <td>0</td>\n",
       "      <td>0</td>\n",
       "      <td>1</td>\n",
       "      <td>...</td>\n",
       "      <td>0</td>\n",
       "      <td>0</td>\n",
       "      <td>0</td>\n",
       "      <td>0</td>\n",
       "      <td>1.098612</td>\n",
       "      <td>4.317488</td>\n",
       "      <td>3.713572</td>\n",
       "      <td>0</td>\n",
       "      <td>0</td>\n",
       "      <td>0</td>\n",
       "    </tr>\n",
       "    <tr>\n",
       "      <th>6033</th>\n",
       "      <td>0</td>\n",
       "      <td>0</td>\n",
       "      <td>0</td>\n",
       "      <td>0</td>\n",
       "      <td>0</td>\n",
       "      <td>0</td>\n",
       "      <td>1</td>\n",
       "      <td>0</td>\n",
       "      <td>0</td>\n",
       "      <td>0</td>\n",
       "      <td>...</td>\n",
       "      <td>0</td>\n",
       "      <td>0</td>\n",
       "      <td>0</td>\n",
       "      <td>0</td>\n",
       "      <td>4.812184</td>\n",
       "      <td>1.098612</td>\n",
       "      <td>3.713572</td>\n",
       "      <td>0</td>\n",
       "      <td>0</td>\n",
       "      <td>0</td>\n",
       "    </tr>\n",
       "    <tr>\n",
       "      <th>6038</th>\n",
       "      <td>0</td>\n",
       "      <td>0</td>\n",
       "      <td>0</td>\n",
       "      <td>0</td>\n",
       "      <td>0</td>\n",
       "      <td>0</td>\n",
       "      <td>0</td>\n",
       "      <td>1</td>\n",
       "      <td>0</td>\n",
       "      <td>0</td>\n",
       "      <td>...</td>\n",
       "      <td>0</td>\n",
       "      <td>0</td>\n",
       "      <td>0</td>\n",
       "      <td>0</td>\n",
       "      <td>5.135798</td>\n",
       "      <td>2.302585</td>\n",
       "      <td>3.737670</td>\n",
       "      <td>0</td>\n",
       "      <td>0</td>\n",
       "      <td>0</td>\n",
       "    </tr>\n",
       "    <tr>\n",
       "      <th>6050</th>\n",
       "      <td>0</td>\n",
       "      <td>0</td>\n",
       "      <td>0</td>\n",
       "      <td>0</td>\n",
       "      <td>0</td>\n",
       "      <td>0</td>\n",
       "      <td>1</td>\n",
       "      <td>0</td>\n",
       "      <td>0</td>\n",
       "      <td>0</td>\n",
       "      <td>...</td>\n",
       "      <td>0</td>\n",
       "      <td>0</td>\n",
       "      <td>0</td>\n",
       "      <td>0</td>\n",
       "      <td>5.308268</td>\n",
       "      <td>2.708050</td>\n",
       "      <td>3.784190</td>\n",
       "      <td>0</td>\n",
       "      <td>0</td>\n",
       "      <td>0</td>\n",
       "    </tr>\n",
       "    <tr>\n",
       "      <th>6051</th>\n",
       "      <td>0</td>\n",
       "      <td>0</td>\n",
       "      <td>0</td>\n",
       "      <td>0</td>\n",
       "      <td>0</td>\n",
       "      <td>0</td>\n",
       "      <td>1</td>\n",
       "      <td>0</td>\n",
       "      <td>0</td>\n",
       "      <td>0</td>\n",
       "      <td>...</td>\n",
       "      <td>0</td>\n",
       "      <td>0</td>\n",
       "      <td>0</td>\n",
       "      <td>0</td>\n",
       "      <td>4.553877</td>\n",
       "      <td>1.609438</td>\n",
       "      <td>3.784190</td>\n",
       "      <td>0</td>\n",
       "      <td>0</td>\n",
       "      <td>0</td>\n",
       "    </tr>\n",
       "  </tbody>\n",
       "</table>\n",
       "<p>2387 rows × 31 columns</p>\n",
       "</div>"
      ],
      "text/plain": [
       "      Theme_City  Theme_Collectable Minifigures  Theme_Duplo  Theme_Friends  \\\n",
       "8              0                              0            1              0   \n",
       "11             0                              0            1              0   \n",
       "65             0                              0            0              0   \n",
       "119            0                              0            0              1   \n",
       "124            0                              0            0              1   \n",
       "...          ...                            ...          ...            ...   \n",
       "6030           0                              0            0              0   \n",
       "6033           0                              0            0              0   \n",
       "6038           0                              0            0              0   \n",
       "6050           0                              0            0              0   \n",
       "6051           0                              0            0              0   \n",
       "\n",
       "      Theme_Legends of Chima  Theme_Ninjago  Theme_Other  Theme_Space  \\\n",
       "8                          0              0            0            0   \n",
       "11                         0              0            0            0   \n",
       "65                         1              0            0            0   \n",
       "119                        0              0            0            0   \n",
       "124                        0              0            0            0   \n",
       "...                      ...            ...          ...          ...   \n",
       "6030                       0              0            0            0   \n",
       "6033                       0              0            1            0   \n",
       "6038                       0              0            0            1   \n",
       "6050                       0              0            1            0   \n",
       "6051                       0              0            1            0   \n",
       "\n",
       "      Theme_Star Wars  Theme_Town  ...  Packaging_Other  \\\n",
       "8                   0           0  ...                0   \n",
       "11                  0           0  ...                0   \n",
       "65                  0           0  ...                0   \n",
       "119                 0           0  ...                0   \n",
       "124                 0           0  ...                0   \n",
       "...               ...         ...  ...              ...   \n",
       "6030                0           1  ...                0   \n",
       "6033                0           0  ...                0   \n",
       "6038                0           0  ...                0   \n",
       "6050                0           0  ...                0   \n",
       "6051                0           0  ...                0   \n",
       "\n",
       "      Packaging_Plastic box  Packaging_Polybag  Packaging_Tub   Pieces2  \\\n",
       "8                         0                  0              0  2.564949   \n",
       "11                        0                  0              0  2.564949   \n",
       "65                        0                  1              0  3.663562   \n",
       "119                       0                  0              0  4.465908   \n",
       "124                       0                  0              0  4.584967   \n",
       "...                     ...                ...            ...       ...   \n",
       "6030                      0                  0              0  1.098612   \n",
       "6033                      0                  0              0  4.812184   \n",
       "6038                      0                  0              0  5.135798   \n",
       "6050                      0                  0              0  5.308268   \n",
       "6051                      0                  0              0  4.553877   \n",
       "\n",
       "      Price_USD2      age2  Outliers_Price  Outliers_Piece  \\\n",
       "8       2.301585  1.609438               0               0   \n",
       "11      2.707383  1.609438               0               0   \n",
       "65      1.383791  1.609438               0               0   \n",
       "119     2.301585  1.609438               0               0   \n",
       "124     2.301585  1.609438               0               0   \n",
       "...          ...       ...             ...             ...   \n",
       "6030    4.317488  3.713572               0               0   \n",
       "6033    1.098612  3.713572               0               0   \n",
       "6038    2.302585  3.737670               0               0   \n",
       "6050    2.708050  3.784190               0               0   \n",
       "6051    1.609438  3.784190               0               0   \n",
       "\n",
       "      Outliers_Minifigures  \n",
       "8                        0  \n",
       "11                       0  \n",
       "65                       0  \n",
       "119                      0  \n",
       "124                      0  \n",
       "...                    ...  \n",
       "6030                     0  \n",
       "6033                     0  \n",
       "6038                     0  \n",
       "6050                     0  \n",
       "6051                     0  \n",
       "\n",
       "[2387 rows x 31 columns]"
      ]
     },
     "execution_count": 151,
     "metadata": {},
     "output_type": "execute_result"
    }
   ],
   "source": [
    "lego5.loc[(lego5.Pieces2.duplicated()==True)&(lego5.Price_USD2.duplicated()==True)]"
   ]
  },
  {
   "cell_type": "markdown",
   "metadata": {},
   "source": [
    "### Final cleaned dataset:"
   ]
  },
  {
   "cell_type": "code",
   "execution_count": 152,
   "metadata": {
    "scrolled": true
   },
   "outputs": [
    {
     "data": {
      "text/html": [
       "<div>\n",
       "<style scoped>\n",
       "    .dataframe tbody tr th:only-of-type {\n",
       "        vertical-align: middle;\n",
       "    }\n",
       "\n",
       "    .dataframe tbody tr th {\n",
       "        vertical-align: top;\n",
       "    }\n",
       "\n",
       "    .dataframe thead th {\n",
       "        text-align: right;\n",
       "    }\n",
       "</style>\n",
       "<table border=\"1\" class=\"dataframe\">\n",
       "  <thead>\n",
       "    <tr style=\"text-align: right;\">\n",
       "      <th></th>\n",
       "      <th>Theme_City</th>\n",
       "      <th>Theme_Collectable Minifigures</th>\n",
       "      <th>Theme_Duplo</th>\n",
       "      <th>Theme_Friends</th>\n",
       "      <th>Theme_Legends of Chima</th>\n",
       "      <th>Theme_Ninjago</th>\n",
       "      <th>Theme_Other</th>\n",
       "      <th>Theme_Space</th>\n",
       "      <th>Theme_Star Wars</th>\n",
       "      <th>Theme_Town</th>\n",
       "      <th>...</th>\n",
       "      <th>Packaging_Other</th>\n",
       "      <th>Packaging_Plastic box</th>\n",
       "      <th>Packaging_Polybag</th>\n",
       "      <th>Packaging_Tub</th>\n",
       "      <th>Pieces2</th>\n",
       "      <th>Price_USD2</th>\n",
       "      <th>age2</th>\n",
       "      <th>Outliers_Price</th>\n",
       "      <th>Outliers_Piece</th>\n",
       "      <th>Outliers_Minifigures</th>\n",
       "    </tr>\n",
       "  </thead>\n",
       "  <tbody>\n",
       "    <tr>\n",
       "      <th>count</th>\n",
       "      <td>3346.000000</td>\n",
       "      <td>3346.000000</td>\n",
       "      <td>3346.000000</td>\n",
       "      <td>3346.000000</td>\n",
       "      <td>3346.000000</td>\n",
       "      <td>3346.000000</td>\n",
       "      <td>3346.000000</td>\n",
       "      <td>3346.000000</td>\n",
       "      <td>3346.000000</td>\n",
       "      <td>3346.000000</td>\n",
       "      <td>...</td>\n",
       "      <td>3346.000000</td>\n",
       "      <td>3346.000000</td>\n",
       "      <td>3346.000000</td>\n",
       "      <td>3346.000000</td>\n",
       "      <td>3346.000000</td>\n",
       "      <td>3346.000000</td>\n",
       "      <td>3346.000000</td>\n",
       "      <td>3346.000000</td>\n",
       "      <td>3346.000000</td>\n",
       "      <td>3346.0</td>\n",
       "    </tr>\n",
       "    <tr>\n",
       "      <th>mean</th>\n",
       "      <td>0.078302</td>\n",
       "      <td>0.076210</td>\n",
       "      <td>0.089360</td>\n",
       "      <td>0.026001</td>\n",
       "      <td>0.024208</td>\n",
       "      <td>0.033174</td>\n",
       "      <td>0.404065</td>\n",
       "      <td>0.045726</td>\n",
       "      <td>0.086671</td>\n",
       "      <td>0.084579</td>\n",
       "      <td>...</td>\n",
       "      <td>0.004782</td>\n",
       "      <td>0.002092</td>\n",
       "      <td>0.031381</td>\n",
       "      <td>0.004184</td>\n",
       "      <td>4.578073</td>\n",
       "      <td>2.870964</td>\n",
       "      <td>2.511196</td>\n",
       "      <td>0.000299</td>\n",
       "      <td>0.000897</td>\n",
       "      <td>0.0</td>\n",
       "    </tr>\n",
       "    <tr>\n",
       "      <th>std</th>\n",
       "      <td>0.268687</td>\n",
       "      <td>0.265374</td>\n",
       "      <td>0.285306</td>\n",
       "      <td>0.159163</td>\n",
       "      <td>0.153717</td>\n",
       "      <td>0.179117</td>\n",
       "      <td>0.490783</td>\n",
       "      <td>0.208922</td>\n",
       "      <td>0.281394</td>\n",
       "      <td>0.278295</td>\n",
       "      <td>...</td>\n",
       "      <td>0.068996</td>\n",
       "      <td>0.045698</td>\n",
       "      <td>0.174371</td>\n",
       "      <td>0.064559</td>\n",
       "      <td>1.483384</td>\n",
       "      <td>1.098402</td>\n",
       "      <td>0.561896</td>\n",
       "      <td>0.017288</td>\n",
       "      <td>0.029934</td>\n",
       "      <td>0.0</td>\n",
       "    </tr>\n",
       "    <tr>\n",
       "      <th>min</th>\n",
       "      <td>0.000000</td>\n",
       "      <td>0.000000</td>\n",
       "      <td>0.000000</td>\n",
       "      <td>0.000000</td>\n",
       "      <td>0.000000</td>\n",
       "      <td>0.000000</td>\n",
       "      <td>0.000000</td>\n",
       "      <td>0.000000</td>\n",
       "      <td>0.000000</td>\n",
       "      <td>0.000000</td>\n",
       "      <td>...</td>\n",
       "      <td>0.000000</td>\n",
       "      <td>0.000000</td>\n",
       "      <td>0.000000</td>\n",
       "      <td>0.000000</td>\n",
       "      <td>0.000000</td>\n",
       "      <td>-0.010050</td>\n",
       "      <td>1.609438</td>\n",
       "      <td>0.000000</td>\n",
       "      <td>0.000000</td>\n",
       "      <td>0.0</td>\n",
       "    </tr>\n",
       "    <tr>\n",
       "      <th>25%</th>\n",
       "      <td>0.000000</td>\n",
       "      <td>0.000000</td>\n",
       "      <td>0.000000</td>\n",
       "      <td>0.000000</td>\n",
       "      <td>0.000000</td>\n",
       "      <td>0.000000</td>\n",
       "      <td>0.000000</td>\n",
       "      <td>0.000000</td>\n",
       "      <td>0.000000</td>\n",
       "      <td>0.000000</td>\n",
       "      <td>...</td>\n",
       "      <td>0.000000</td>\n",
       "      <td>0.000000</td>\n",
       "      <td>0.000000</td>\n",
       "      <td>0.000000</td>\n",
       "      <td>3.526361</td>\n",
       "      <td>2.079442</td>\n",
       "      <td>2.079442</td>\n",
       "      <td>0.000000</td>\n",
       "      <td>0.000000</td>\n",
       "      <td>0.0</td>\n",
       "    </tr>\n",
       "    <tr>\n",
       "      <th>50%</th>\n",
       "      <td>0.000000</td>\n",
       "      <td>0.000000</td>\n",
       "      <td>0.000000</td>\n",
       "      <td>0.000000</td>\n",
       "      <td>0.000000</td>\n",
       "      <td>0.000000</td>\n",
       "      <td>0.000000</td>\n",
       "      <td>0.000000</td>\n",
       "      <td>0.000000</td>\n",
       "      <td>0.000000</td>\n",
       "      <td>...</td>\n",
       "      <td>0.000000</td>\n",
       "      <td>0.000000</td>\n",
       "      <td>0.000000</td>\n",
       "      <td>0.000000</td>\n",
       "      <td>4.736198</td>\n",
       "      <td>2.995232</td>\n",
       "      <td>2.484907</td>\n",
       "      <td>0.000000</td>\n",
       "      <td>0.000000</td>\n",
       "      <td>0.0</td>\n",
       "    </tr>\n",
       "    <tr>\n",
       "      <th>75%</th>\n",
       "      <td>0.000000</td>\n",
       "      <td>0.000000</td>\n",
       "      <td>0.000000</td>\n",
       "      <td>0.000000</td>\n",
       "      <td>0.000000</td>\n",
       "      <td>0.000000</td>\n",
       "      <td>1.000000</td>\n",
       "      <td>0.000000</td>\n",
       "      <td>0.000000</td>\n",
       "      <td>0.000000</td>\n",
       "      <td>...</td>\n",
       "      <td>0.000000</td>\n",
       "      <td>0.000000</td>\n",
       "      <td>0.000000</td>\n",
       "      <td>0.000000</td>\n",
       "      <td>5.709598</td>\n",
       "      <td>3.688629</td>\n",
       "      <td>2.995732</td>\n",
       "      <td>0.000000</td>\n",
       "      <td>0.000000</td>\n",
       "      <td>0.0</td>\n",
       "    </tr>\n",
       "    <tr>\n",
       "      <th>max</th>\n",
       "      <td>1.000000</td>\n",
       "      <td>1.000000</td>\n",
       "      <td>1.000000</td>\n",
       "      <td>1.000000</td>\n",
       "      <td>1.000000</td>\n",
       "      <td>1.000000</td>\n",
       "      <td>1.000000</td>\n",
       "      <td>1.000000</td>\n",
       "      <td>1.000000</td>\n",
       "      <td>1.000000</td>\n",
       "      <td>...</td>\n",
       "      <td>1.000000</td>\n",
       "      <td>1.000000</td>\n",
       "      <td>1.000000</td>\n",
       "      <td>1.000000</td>\n",
       "      <td>8.555452</td>\n",
       "      <td>6.214588</td>\n",
       "      <td>3.806662</td>\n",
       "      <td>1.000000</td>\n",
       "      <td>1.000000</td>\n",
       "      <td>0.0</td>\n",
       "    </tr>\n",
       "  </tbody>\n",
       "</table>\n",
       "<p>8 rows × 31 columns</p>\n",
       "</div>"
      ],
      "text/plain": [
       "        Theme_City  Theme_Collectable Minifigures  Theme_Duplo  Theme_Friends  \\\n",
       "count  3346.000000                    3346.000000  3346.000000    3346.000000   \n",
       "mean      0.078302                       0.076210     0.089360       0.026001   \n",
       "std       0.268687                       0.265374     0.285306       0.159163   \n",
       "min       0.000000                       0.000000     0.000000       0.000000   \n",
       "25%       0.000000                       0.000000     0.000000       0.000000   \n",
       "50%       0.000000                       0.000000     0.000000       0.000000   \n",
       "75%       0.000000                       0.000000     0.000000       0.000000   \n",
       "max       1.000000                       1.000000     1.000000       1.000000   \n",
       "\n",
       "       Theme_Legends of Chima  Theme_Ninjago  Theme_Other  Theme_Space  \\\n",
       "count             3346.000000    3346.000000  3346.000000  3346.000000   \n",
       "mean                 0.024208       0.033174     0.404065     0.045726   \n",
       "std                  0.153717       0.179117     0.490783     0.208922   \n",
       "min                  0.000000       0.000000     0.000000     0.000000   \n",
       "25%                  0.000000       0.000000     0.000000     0.000000   \n",
       "50%                  0.000000       0.000000     0.000000     0.000000   \n",
       "75%                  0.000000       0.000000     1.000000     0.000000   \n",
       "max                  1.000000       1.000000     1.000000     1.000000   \n",
       "\n",
       "       Theme_Star Wars   Theme_Town  ...  Packaging_Other  \\\n",
       "count      3346.000000  3346.000000  ...      3346.000000   \n",
       "mean          0.086671     0.084579  ...         0.004782   \n",
       "std           0.281394     0.278295  ...         0.068996   \n",
       "min           0.000000     0.000000  ...         0.000000   \n",
       "25%           0.000000     0.000000  ...         0.000000   \n",
       "50%           0.000000     0.000000  ...         0.000000   \n",
       "75%           0.000000     0.000000  ...         0.000000   \n",
       "max           1.000000     1.000000  ...         1.000000   \n",
       "\n",
       "       Packaging_Plastic box  Packaging_Polybag  Packaging_Tub      Pieces2  \\\n",
       "count            3346.000000        3346.000000    3346.000000  3346.000000   \n",
       "mean                0.002092           0.031381       0.004184     4.578073   \n",
       "std                 0.045698           0.174371       0.064559     1.483384   \n",
       "min                 0.000000           0.000000       0.000000     0.000000   \n",
       "25%                 0.000000           0.000000       0.000000     3.526361   \n",
       "50%                 0.000000           0.000000       0.000000     4.736198   \n",
       "75%                 0.000000           0.000000       0.000000     5.709598   \n",
       "max                 1.000000           1.000000       1.000000     8.555452   \n",
       "\n",
       "        Price_USD2         age2  Outliers_Price  Outliers_Piece  \\\n",
       "count  3346.000000  3346.000000     3346.000000     3346.000000   \n",
       "mean      2.870964     2.511196        0.000299        0.000897   \n",
       "std       1.098402     0.561896        0.017288        0.029934   \n",
       "min      -0.010050     1.609438        0.000000        0.000000   \n",
       "25%       2.079442     2.079442        0.000000        0.000000   \n",
       "50%       2.995232     2.484907        0.000000        0.000000   \n",
       "75%       3.688629     2.995732        0.000000        0.000000   \n",
       "max       6.214588     3.806662        1.000000        1.000000   \n",
       "\n",
       "       Outliers_Minifigures  \n",
       "count                3346.0  \n",
       "mean                    0.0  \n",
       "std                     0.0  \n",
       "min                     0.0  \n",
       "25%                     0.0  \n",
       "50%                     0.0  \n",
       "75%                     0.0  \n",
       "max                     0.0  \n",
       "\n",
       "[8 rows x 31 columns]"
      ]
     },
     "execution_count": 152,
     "metadata": {},
     "output_type": "execute_result"
    }
   ],
   "source": [
    "lego5.describe()"
   ]
  },
  {
   "cell_type": "code",
   "execution_count": 153,
   "metadata": {},
   "outputs": [
    {
     "data": {
      "text/html": [
       "<div>\n",
       "<style scoped>\n",
       "    .dataframe tbody tr th:only-of-type {\n",
       "        vertical-align: middle;\n",
       "    }\n",
       "\n",
       "    .dataframe tbody tr th {\n",
       "        vertical-align: top;\n",
       "    }\n",
       "\n",
       "    .dataframe thead th {\n",
       "        text-align: right;\n",
       "    }\n",
       "</style>\n",
       "<table border=\"1\" class=\"dataframe\">\n",
       "  <thead>\n",
       "    <tr style=\"text-align: right;\">\n",
       "      <th></th>\n",
       "      <th>Theme_City</th>\n",
       "      <th>Theme_Collectable Minifigures</th>\n",
       "      <th>Theme_Duplo</th>\n",
       "      <th>Theme_Friends</th>\n",
       "      <th>Theme_Legends of Chima</th>\n",
       "      <th>Theme_Ninjago</th>\n",
       "      <th>Theme_Other</th>\n",
       "      <th>Theme_Space</th>\n",
       "      <th>Theme_Star Wars</th>\n",
       "      <th>Theme_Town</th>\n",
       "      <th>...</th>\n",
       "      <th>Packaging_Other</th>\n",
       "      <th>Packaging_Plastic box</th>\n",
       "      <th>Packaging_Polybag</th>\n",
       "      <th>Packaging_Tub</th>\n",
       "      <th>Pieces2</th>\n",
       "      <th>Price_USD2</th>\n",
       "      <th>age2</th>\n",
       "      <th>Outliers_Price</th>\n",
       "      <th>Outliers_Piece</th>\n",
       "      <th>Outliers_Minifigures</th>\n",
       "    </tr>\n",
       "  </thead>\n",
       "  <tbody>\n",
       "    <tr>\n",
       "      <th>0</th>\n",
       "      <td>0</td>\n",
       "      <td>0</td>\n",
       "      <td>0</td>\n",
       "      <td>0</td>\n",
       "      <td>0</td>\n",
       "      <td>0</td>\n",
       "      <td>1</td>\n",
       "      <td>0</td>\n",
       "      <td>0</td>\n",
       "      <td>0</td>\n",
       "      <td>...</td>\n",
       "      <td>0</td>\n",
       "      <td>0</td>\n",
       "      <td>0</td>\n",
       "      <td>0</td>\n",
       "      <td>7.724005</td>\n",
       "      <td>5.075111</td>\n",
       "      <td>1.609438</td>\n",
       "      <td>0</td>\n",
       "      <td>0</td>\n",
       "      <td>0</td>\n",
       "    </tr>\n",
       "    <tr>\n",
       "      <th>1</th>\n",
       "      <td>0</td>\n",
       "      <td>0</td>\n",
       "      <td>0</td>\n",
       "      <td>0</td>\n",
       "      <td>0</td>\n",
       "      <td>0</td>\n",
       "      <td>1</td>\n",
       "      <td>0</td>\n",
       "      <td>0</td>\n",
       "      <td>0</td>\n",
       "      <td>...</td>\n",
       "      <td>0</td>\n",
       "      <td>0</td>\n",
       "      <td>0</td>\n",
       "      <td>0</td>\n",
       "      <td>7.809541</td>\n",
       "      <td>5.298267</td>\n",
       "      <td>1.609438</td>\n",
       "      <td>0</td>\n",
       "      <td>0</td>\n",
       "      <td>0</td>\n",
       "    </tr>\n",
       "    <tr>\n",
       "      <th>4</th>\n",
       "      <td>0</td>\n",
       "      <td>0</td>\n",
       "      <td>1</td>\n",
       "      <td>0</td>\n",
       "      <td>0</td>\n",
       "      <td>0</td>\n",
       "      <td>0</td>\n",
       "      <td>0</td>\n",
       "      <td>0</td>\n",
       "      <td>0</td>\n",
       "      <td>...</td>\n",
       "      <td>0</td>\n",
       "      <td>0</td>\n",
       "      <td>0</td>\n",
       "      <td>0</td>\n",
       "      <td>2.564949</td>\n",
       "      <td>2.301585</td>\n",
       "      <td>1.609438</td>\n",
       "      <td>0</td>\n",
       "      <td>0</td>\n",
       "      <td>0</td>\n",
       "    </tr>\n",
       "    <tr>\n",
       "      <th>5</th>\n",
       "      <td>0</td>\n",
       "      <td>0</td>\n",
       "      <td>1</td>\n",
       "      <td>0</td>\n",
       "      <td>0</td>\n",
       "      <td>0</td>\n",
       "      <td>0</td>\n",
       "      <td>0</td>\n",
       "      <td>0</td>\n",
       "      <td>0</td>\n",
       "      <td>...</td>\n",
       "      <td>0</td>\n",
       "      <td>0</td>\n",
       "      <td>0</td>\n",
       "      <td>0</td>\n",
       "      <td>3.663562</td>\n",
       "      <td>2.995232</td>\n",
       "      <td>1.609438</td>\n",
       "      <td>0</td>\n",
       "      <td>0</td>\n",
       "      <td>0</td>\n",
       "    </tr>\n",
       "    <tr>\n",
       "      <th>6</th>\n",
       "      <td>0</td>\n",
       "      <td>0</td>\n",
       "      <td>1</td>\n",
       "      <td>0</td>\n",
       "      <td>0</td>\n",
       "      <td>0</td>\n",
       "      <td>0</td>\n",
       "      <td>0</td>\n",
       "      <td>0</td>\n",
       "      <td>0</td>\n",
       "      <td>...</td>\n",
       "      <td>0</td>\n",
       "      <td>0</td>\n",
       "      <td>0</td>\n",
       "      <td>0</td>\n",
       "      <td>3.465736</td>\n",
       "      <td>3.218476</td>\n",
       "      <td>1.609438</td>\n",
       "      <td>0</td>\n",
       "      <td>0</td>\n",
       "      <td>0</td>\n",
       "    </tr>\n",
       "  </tbody>\n",
       "</table>\n",
       "<p>5 rows × 31 columns</p>\n",
       "</div>"
      ],
      "text/plain": [
       "   Theme_City  Theme_Collectable Minifigures  Theme_Duplo  Theme_Friends  \\\n",
       "0           0                              0            0              0   \n",
       "1           0                              0            0              0   \n",
       "4           0                              0            1              0   \n",
       "5           0                              0            1              0   \n",
       "6           0                              0            1              0   \n",
       "\n",
       "   Theme_Legends of Chima  Theme_Ninjago  Theme_Other  Theme_Space  \\\n",
       "0                       0              0            1            0   \n",
       "1                       0              0            1            0   \n",
       "4                       0              0            0            0   \n",
       "5                       0              0            0            0   \n",
       "6                       0              0            0            0   \n",
       "\n",
       "   Theme_Star Wars  Theme_Town  ...  Packaging_Other  Packaging_Plastic box  \\\n",
       "0                0           0  ...                0                      0   \n",
       "1                0           0  ...                0                      0   \n",
       "4                0           0  ...                0                      0   \n",
       "5                0           0  ...                0                      0   \n",
       "6                0           0  ...                0                      0   \n",
       "\n",
       "   Packaging_Polybag  Packaging_Tub   Pieces2  Price_USD2      age2  \\\n",
       "0                  0              0  7.724005    5.075111  1.609438   \n",
       "1                  0              0  7.809541    5.298267  1.609438   \n",
       "4                  0              0  2.564949    2.301585  1.609438   \n",
       "5                  0              0  3.663562    2.995232  1.609438   \n",
       "6                  0              0  3.465736    3.218476  1.609438   \n",
       "\n",
       "   Outliers_Price  Outliers_Piece  Outliers_Minifigures  \n",
       "0               0               0                     0  \n",
       "1               0               0                     0  \n",
       "4               0               0                     0  \n",
       "5               0               0                     0  \n",
       "6               0               0                     0  \n",
       "\n",
       "[5 rows x 31 columns]"
      ]
     },
     "execution_count": 153,
     "metadata": {},
     "output_type": "execute_result"
    }
   ],
   "source": [
    "lego5.head()"
   ]
  },
  {
   "cell_type": "markdown",
   "metadata": {},
   "source": [
    "## 3. Linear regression model"
   ]
  },
  {
   "cell_type": "code",
   "execution_count": 154,
   "metadata": {},
   "outputs": [],
   "source": [
    "def func(column,X):\n",
    "    #drop the column\n",
    "    if column:\n",
    "        X=X.drop(column, axis=1)\n",
    "    # build the model\n",
    "    model=sm.OLS(y,add_constant(X))\n",
    "    #fit it\n",
    "    model_fit=model.fit()\n",
    "    #display the model\n",
    "    display(model_fit.summary())\n",
    "    #return X without the column\n",
    "    return X"
   ]
  },
  {
   "cell_type": "code",
   "execution_count": 155,
   "metadata": {},
   "outputs": [
    {
     "name": "stderr",
     "output_type": "stream",
     "text": [
      "C:\\Users\\Camille\\Anaconda3\\Anaconda33\\lib\\site-packages\\statsmodels\\base\\model.py:1362: RuntimeWarning: invalid value encountered in true_divide\n",
      "  return self.params / self.bse\n",
      "C:\\Users\\Camille\\Anaconda3\\Anaconda33\\lib\\site-packages\\scipy\\stats\\_distn_infrastructure.py:903: RuntimeWarning: invalid value encountered in greater\n",
      "  return (a < x) & (x < b)\n",
      "C:\\Users\\Camille\\Anaconda3\\Anaconda33\\lib\\site-packages\\scipy\\stats\\_distn_infrastructure.py:903: RuntimeWarning: invalid value encountered in less\n",
      "  return (a < x) & (x < b)\n",
      "C:\\Users\\Camille\\Anaconda3\\Anaconda33\\lib\\site-packages\\scipy\\stats\\_distn_infrastructure.py:1912: RuntimeWarning: invalid value encountered in less_equal\n",
      "  cond2 = cond0 & (x <= _a)\n"
     ]
    },
    {
     "data": {
      "text/html": [
       "<table class=\"simpletable\">\n",
       "<caption>OLS Regression Results</caption>\n",
       "<tr>\n",
       "  <th>Dep. Variable:</th>       <td>Price_USD2</td>    <th>  R-squared:         </th> <td>   0.832</td>\n",
       "</tr>\n",
       "<tr>\n",
       "  <th>Model:</th>                   <td>OLS</td>       <th>  Adj. R-squared:    </th> <td>   0.830</td>\n",
       "</tr>\n",
       "<tr>\n",
       "  <th>Method:</th>             <td>Least Squares</td>  <th>  F-statistic:       </th> <td>   566.0</td>\n",
       "</tr>\n",
       "<tr>\n",
       "  <th>Date:</th>             <td>Tue, 05 May 2020</td> <th>  Prob (F-statistic):</th>  <td>  0.00</td> \n",
       "</tr>\n",
       "<tr>\n",
       "  <th>Time:</th>                 <td>14:47:17</td>     <th>  Log-Likelihood:    </th> <td> -2077.8</td>\n",
       "</tr>\n",
       "<tr>\n",
       "  <th>No. Observations:</th>      <td>  3346</td>      <th>  AIC:               </th> <td>   4216.</td>\n",
       "</tr>\n",
       "<tr>\n",
       "  <th>Df Residuals:</th>          <td>  3316</td>      <th>  BIC:               </th> <td>   4399.</td>\n",
       "</tr>\n",
       "<tr>\n",
       "  <th>Df Model:</th>              <td>    29</td>      <th>                     </th>     <td> </td>   \n",
       "</tr>\n",
       "<tr>\n",
       "  <th>Covariance Type:</th>      <td>nonrobust</td>    <th>                     </th>     <td> </td>   \n",
       "</tr>\n",
       "</table>\n",
       "<table class=\"simpletable\">\n",
       "<tr>\n",
       "                   <td></td>                     <th>coef</th>     <th>std err</th>      <th>t</th>      <th>P>|t|</th>  <th>[0.025</th>    <th>0.975]</th>  \n",
       "</tr>\n",
       "<tr>\n",
       "  <th>const</th>                              <td>   -0.1246</td> <td>    0.105</td> <td>   -1.191</td> <td> 0.234</td> <td>   -0.330</td> <td>    0.080</td>\n",
       "</tr>\n",
       "<tr>\n",
       "  <th>Theme_City</th>                         <td>    0.2316</td> <td>    0.047</td> <td>    4.957</td> <td> 0.000</td> <td>    0.140</td> <td>    0.323</td>\n",
       "</tr>\n",
       "<tr>\n",
       "  <th>Theme_Collectable Minifigures</th>      <td>    0.0919</td> <td>    0.066</td> <td>    1.400</td> <td> 0.162</td> <td>   -0.037</td> <td>    0.221</td>\n",
       "</tr>\n",
       "<tr>\n",
       "  <th>Theme_Duplo</th>                        <td>    1.2717</td> <td>    0.048</td> <td>   26.536</td> <td> 0.000</td> <td>    1.178</td> <td>    1.366</td>\n",
       "</tr>\n",
       "<tr>\n",
       "  <th>Theme_Friends</th>                      <td>    0.1415</td> <td>    0.063</td> <td>    2.253</td> <td> 0.024</td> <td>    0.018</td> <td>    0.265</td>\n",
       "</tr>\n",
       "<tr>\n",
       "  <th>Theme_Legends of Chima</th>             <td>    0.0194</td> <td>    0.068</td> <td>    0.285</td> <td> 0.775</td> <td>   -0.114</td> <td>    0.153</td>\n",
       "</tr>\n",
       "<tr>\n",
       "  <th>Theme_Ninjago</th>                      <td>    0.1600</td> <td>    0.060</td> <td>    2.654</td> <td> 0.008</td> <td>    0.042</td> <td>    0.278</td>\n",
       "</tr>\n",
       "<tr>\n",
       "  <th>Theme_Other</th>                        <td>    0.2627</td> <td>    0.037</td> <td>    7.046</td> <td> 0.000</td> <td>    0.190</td> <td>    0.336</td>\n",
       "</tr>\n",
       "<tr>\n",
       "  <th>Theme_Space</th>                        <td>   -0.0054</td> <td>    0.050</td> <td>   -0.108</td> <td> 0.914</td> <td>   -0.104</td> <td>    0.093</td>\n",
       "</tr>\n",
       "<tr>\n",
       "  <th>Theme_Star Wars</th>                    <td>    0.1585</td> <td>    0.045</td> <td>    3.488</td> <td> 0.000</td> <td>    0.069</td> <td>    0.248</td>\n",
       "</tr>\n",
       "<tr>\n",
       "  <th>Theme_Town</th>                         <td>   -0.0023</td> <td>    0.045</td> <td>   -0.052</td> <td> 0.958</td> <td>   -0.090</td> <td>    0.085</td>\n",
       "</tr>\n",
       "<tr>\n",
       "  <th>Availability_Not specified</th>         <td>    0.0479</td> <td>    0.167</td> <td>    0.287</td> <td> 0.774</td> <td>   -0.279</td> <td>    0.375</td>\n",
       "</tr>\n",
       "<tr>\n",
       "  <th>Availability_Promotional</th>           <td>   -0.3620</td> <td>    0.072</td> <td>   -4.995</td> <td> 0.000</td> <td>   -0.504</td> <td>   -0.220</td>\n",
       "</tr>\n",
       "<tr>\n",
       "  <th>Availability_Promotional (Airline)</th> <td>   -0.2451</td> <td>    0.151</td> <td>   -1.622</td> <td> 0.105</td> <td>   -0.541</td> <td>    0.051</td>\n",
       "</tr>\n",
       "<tr>\n",
       "  <th>Availability_Retail</th>                <td>   -0.2160</td> <td>    0.044</td> <td>   -4.876</td> <td> 0.000</td> <td>   -0.303</td> <td>   -0.129</td>\n",
       "</tr>\n",
       "<tr>\n",
       "  <th>Availability_Retail - limited</th>      <td>   -0.2246</td> <td>    0.051</td> <td>   -4.375</td> <td> 0.000</td> <td>   -0.325</td> <td>   -0.124</td>\n",
       "</tr>\n",
       "<tr>\n",
       "  <th>Availability_Unknown</th>               <td>   -1.4700</td> <td>    0.455</td> <td>   -3.233</td> <td> 0.001</td> <td>   -2.362</td> <td>   -0.578</td>\n",
       "</tr>\n",
       "<tr>\n",
       "  <th>Packaging_Box</th>                      <td>   -0.5905</td> <td>    0.070</td> <td>   -8.393</td> <td> 0.000</td> <td>   -0.728</td> <td>   -0.453</td>\n",
       "</tr>\n",
       "<tr>\n",
       "  <th>Packaging_Box with backing card</th>    <td>   -0.3481</td> <td>    0.134</td> <td>   -2.602</td> <td> 0.009</td> <td>   -0.610</td> <td>   -0.086</td>\n",
       "</tr>\n",
       "<tr>\n",
       "  <th>Packaging_Bucket</th>                   <td>   -1.2334</td> <td>    0.149</td> <td>   -8.268</td> <td> 0.000</td> <td>   -1.526</td> <td>   -0.941</td>\n",
       "</tr>\n",
       "<tr>\n",
       "  <th>Packaging_Foil pack</th>                <td>   -0.0326</td> <td>    0.088</td> <td>   -0.371</td> <td> 0.711</td> <td>   -0.205</td> <td>    0.140</td>\n",
       "</tr>\n",
       "<tr>\n",
       "  <th>Packaging_Not specified</th>            <td>   -0.4773</td> <td>    0.177</td> <td>   -2.690</td> <td> 0.007</td> <td>   -0.825</td> <td>   -0.129</td>\n",
       "</tr>\n",
       "<tr>\n",
       "  <th>Packaging_Other</th>                    <td>   -0.4446</td> <td>    0.134</td> <td>   -3.318</td> <td> 0.001</td> <td>   -0.707</td> <td>   -0.182</td>\n",
       "</tr>\n",
       "<tr>\n",
       "  <th>Packaging_Plastic box</th>              <td>    2.2215</td> <td>    0.232</td> <td>    9.556</td> <td> 0.000</td> <td>    1.766</td> <td>    2.677</td>\n",
       "</tr>\n",
       "<tr>\n",
       "  <th>Packaging_Polybag</th>                  <td>   -0.9382</td> <td>    0.084</td> <td>  -11.112</td> <td> 0.000</td> <td>   -1.104</td> <td>   -0.773</td>\n",
       "</tr>\n",
       "<tr>\n",
       "  <th>Packaging_Tub</th>                      <td>   -0.9389</td> <td>    0.141</td> <td>   -6.653</td> <td> 0.000</td> <td>   -1.216</td> <td>   -0.662</td>\n",
       "</tr>\n",
       "<tr>\n",
       "  <th>Pieces2</th>                            <td>    0.7360</td> <td>    0.008</td> <td>   93.909</td> <td> 0.000</td> <td>    0.721</td> <td>    0.751</td>\n",
       "</tr>\n",
       "<tr>\n",
       "  <th>age2</th>                               <td>    0.0138</td> <td>    0.019</td> <td>    0.709</td> <td> 0.478</td> <td>   -0.024</td> <td>    0.052</td>\n",
       "</tr>\n",
       "<tr>\n",
       "  <th>Outliers_Price</th>                     <td>    0.2777</td> <td>    0.454</td> <td>    0.611</td> <td> 0.541</td> <td>   -0.613</td> <td>    1.168</td>\n",
       "</tr>\n",
       "<tr>\n",
       "  <th>Outliers_Piece</th>                     <td>    2.0171</td> <td>    0.264</td> <td>    7.636</td> <td> 0.000</td> <td>    1.499</td> <td>    2.535</td>\n",
       "</tr>\n",
       "<tr>\n",
       "  <th>Outliers_Minifigures</th>               <td>         0</td> <td>        0</td> <td>      nan</td> <td>   nan</td> <td>        0</td> <td>        0</td>\n",
       "</tr>\n",
       "</table>\n",
       "<table class=\"simpletable\">\n",
       "<tr>\n",
       "  <th>Omnibus:</th>       <td>597.793</td> <th>  Durbin-Watson:     </th> <td>   1.133</td>\n",
       "</tr>\n",
       "<tr>\n",
       "  <th>Prob(Omnibus):</th> <td> 0.000</td>  <th>  Jarque-Bera (JB):  </th> <td>3928.015</td>\n",
       "</tr>\n",
       "<tr>\n",
       "  <th>Skew:</th>          <td> 0.683</td>  <th>  Prob(JB):          </th> <td>    0.00</td>\n",
       "</tr>\n",
       "<tr>\n",
       "  <th>Kurtosis:</th>      <td> 8.129</td>  <th>  Cond. No.          </th> <td>1.05e+16</td>\n",
       "</tr>\n",
       "</table><br/><br/>Warnings:<br/>[1] Standard Errors assume that the covariance matrix of the errors is correctly specified.<br/>[2] The smallest eigenvalue is 9.48e-28. This might indicate that there are<br/>strong multicollinearity problems or that the design matrix is singular."
      ],
      "text/plain": [
       "<class 'statsmodels.iolib.summary.Summary'>\n",
       "\"\"\"\n",
       "                            OLS Regression Results                            \n",
       "==============================================================================\n",
       "Dep. Variable:             Price_USD2   R-squared:                       0.832\n",
       "Model:                            OLS   Adj. R-squared:                  0.830\n",
       "Method:                 Least Squares   F-statistic:                     566.0\n",
       "Date:                Tue, 05 May 2020   Prob (F-statistic):               0.00\n",
       "Time:                        14:47:17   Log-Likelihood:                -2077.8\n",
       "No. Observations:                3346   AIC:                             4216.\n",
       "Df Residuals:                    3316   BIC:                             4399.\n",
       "Df Model:                          29                                         \n",
       "Covariance Type:            nonrobust                                         \n",
       "======================================================================================================\n",
       "                                         coef    std err          t      P>|t|      [0.025      0.975]\n",
       "------------------------------------------------------------------------------------------------------\n",
       "const                                 -0.1246      0.105     -1.191      0.234      -0.330       0.080\n",
       "Theme_City                             0.2316      0.047      4.957      0.000       0.140       0.323\n",
       "Theme_Collectable Minifigures          0.0919      0.066      1.400      0.162      -0.037       0.221\n",
       "Theme_Duplo                            1.2717      0.048     26.536      0.000       1.178       1.366\n",
       "Theme_Friends                          0.1415      0.063      2.253      0.024       0.018       0.265\n",
       "Theme_Legends of Chima                 0.0194      0.068      0.285      0.775      -0.114       0.153\n",
       "Theme_Ninjago                          0.1600      0.060      2.654      0.008       0.042       0.278\n",
       "Theme_Other                            0.2627      0.037      7.046      0.000       0.190       0.336\n",
       "Theme_Space                           -0.0054      0.050     -0.108      0.914      -0.104       0.093\n",
       "Theme_Star Wars                        0.1585      0.045      3.488      0.000       0.069       0.248\n",
       "Theme_Town                            -0.0023      0.045     -0.052      0.958      -0.090       0.085\n",
       "Availability_Not specified             0.0479      0.167      0.287      0.774      -0.279       0.375\n",
       "Availability_Promotional              -0.3620      0.072     -4.995      0.000      -0.504      -0.220\n",
       "Availability_Promotional (Airline)    -0.2451      0.151     -1.622      0.105      -0.541       0.051\n",
       "Availability_Retail                   -0.2160      0.044     -4.876      0.000      -0.303      -0.129\n",
       "Availability_Retail - limited         -0.2246      0.051     -4.375      0.000      -0.325      -0.124\n",
       "Availability_Unknown                  -1.4700      0.455     -3.233      0.001      -2.362      -0.578\n",
       "Packaging_Box                         -0.5905      0.070     -8.393      0.000      -0.728      -0.453\n",
       "Packaging_Box with backing card       -0.3481      0.134     -2.602      0.009      -0.610      -0.086\n",
       "Packaging_Bucket                      -1.2334      0.149     -8.268      0.000      -1.526      -0.941\n",
       "Packaging_Foil pack                   -0.0326      0.088     -0.371      0.711      -0.205       0.140\n",
       "Packaging_Not specified               -0.4773      0.177     -2.690      0.007      -0.825      -0.129\n",
       "Packaging_Other                       -0.4446      0.134     -3.318      0.001      -0.707      -0.182\n",
       "Packaging_Plastic box                  2.2215      0.232      9.556      0.000       1.766       2.677\n",
       "Packaging_Polybag                     -0.9382      0.084    -11.112      0.000      -1.104      -0.773\n",
       "Packaging_Tub                         -0.9389      0.141     -6.653      0.000      -1.216      -0.662\n",
       "Pieces2                                0.7360      0.008     93.909      0.000       0.721       0.751\n",
       "age2                                   0.0138      0.019      0.709      0.478      -0.024       0.052\n",
       "Outliers_Price                         0.2777      0.454      0.611      0.541      -0.613       1.168\n",
       "Outliers_Piece                         2.0171      0.264      7.636      0.000       1.499       2.535\n",
       "Outliers_Minifigures                        0          0        nan        nan           0           0\n",
       "==============================================================================\n",
       "Omnibus:                      597.793   Durbin-Watson:                   1.133\n",
       "Prob(Omnibus):                  0.000   Jarque-Bera (JB):             3928.015\n",
       "Skew:                           0.683   Prob(JB):                         0.00\n",
       "Kurtosis:                       8.129   Cond. No.                     1.05e+16\n",
       "==============================================================================\n",
       "\n",
       "Warnings:\n",
       "[1] Standard Errors assume that the covariance matrix of the errors is correctly specified.\n",
       "[2] The smallest eigenvalue is 9.48e-28. This might indicate that there are\n",
       "strong multicollinearity problems or that the design matrix is singular.\n",
       "\"\"\""
      ]
     },
     "execution_count": 155,
     "metadata": {},
     "output_type": "execute_result"
    }
   ],
   "source": [
    "# Running the model for the first time\n",
    "y=lego5.Price_USD2\n",
    "X=lego5.drop('Price_USD2',axis=1)\n",
    "\n",
    "model=sm.OLS(y,add_constant(X))\n",
    "model_fit=model.fit()\n",
    "model_fit.summary()"
   ]
  },
  {
   "cell_type": "markdown",
   "metadata": {},
   "source": [
    "### Cleaning pvalues"
   ]
  },
  {
   "cell_type": "code",
   "execution_count": 249,
   "metadata": {},
   "outputs": [
    {
     "data": {
      "text/plain": [
       "['Theme_Town',\n",
       " 'Theme_Space',\n",
       " 'Availability_Not specified',\n",
       " 'Theme_Legends of Chima',\n",
       " 'Packaging_Foil pack',\n",
       " 'age2',\n",
       " 'Outliers_Price',\n",
       " 'Theme_Collectable Minifigures',\n",
       " 'Availability_Promotional (Airline)']"
      ]
     },
     "execution_count": 249,
     "metadata": {},
     "output_type": "execute_result"
    }
   ],
   "source": [
    "[\"Theme_Town\",\"Theme_Space\",\"Availability_Not specified\",\"Theme_Legends of Chima\",\"Packaging_Foil pack\",\"age2\",\"Outliers_Price\",\"Theme_Collectable Minifigures\",\"Availability_Promotional (Airline)\"]"
   ]
  },
  {
   "cell_type": "code",
   "execution_count": 164,
   "metadata": {},
   "outputs": [
    {
     "data": {
      "text/html": [
       "<table class=\"simpletable\">\n",
       "<caption>OLS Regression Results</caption>\n",
       "<tr>\n",
       "  <th>Dep. Variable:</th>       <td>Price_USD2</td>    <th>  R-squared:         </th> <td>   0.832</td>\n",
       "</tr>\n",
       "<tr>\n",
       "  <th>Model:</th>                   <td>OLS</td>       <th>  Adj. R-squared:    </th> <td>   0.831</td>\n",
       "</tr>\n",
       "<tr>\n",
       "  <th>Method:</th>             <td>Least Squares</td>  <th>  F-statistic:       </th> <td>   821.1</td>\n",
       "</tr>\n",
       "<tr>\n",
       "  <th>Date:</th>             <td>Tue, 05 May 2020</td> <th>  Prob (F-statistic):</th>  <td>  0.00</td> \n",
       "</tr>\n",
       "<tr>\n",
       "  <th>Time:</th>                 <td>14:48:54</td>     <th>  Log-Likelihood:    </th> <td> -2080.8</td>\n",
       "</tr>\n",
       "<tr>\n",
       "  <th>No. Observations:</th>      <td>  3346</td>      <th>  AIC:               </th> <td>   4204.</td>\n",
       "</tr>\n",
       "<tr>\n",
       "  <th>Df Residuals:</th>          <td>  3325</td>      <th>  BIC:               </th> <td>   4332.</td>\n",
       "</tr>\n",
       "<tr>\n",
       "  <th>Df Model:</th>              <td>    20</td>      <th>                     </th>     <td> </td>   \n",
       "</tr>\n",
       "<tr>\n",
       "  <th>Covariance Type:</th>      <td>nonrobust</td>    <th>                     </th>     <td> </td>   \n",
       "</tr>\n",
       "</table>\n",
       "<table class=\"simpletable\">\n",
       "<tr>\n",
       "                 <td></td>                    <th>coef</th>     <th>std err</th>      <th>t</th>      <th>P>|t|</th>  <th>[0.025</th>    <th>0.975]</th>  \n",
       "</tr>\n",
       "<tr>\n",
       "  <th>const</th>                           <td>   -0.0549</td> <td>    0.052</td> <td>   -1.057</td> <td> 0.290</td> <td>   -0.157</td> <td>    0.047</td>\n",
       "</tr>\n",
       "<tr>\n",
       "  <th>Theme_City</th>                      <td>    0.2164</td> <td>    0.033</td> <td>    6.584</td> <td> 0.000</td> <td>    0.152</td> <td>    0.281</td>\n",
       "</tr>\n",
       "<tr>\n",
       "  <th>Theme_Duplo</th>                     <td>    1.2444</td> <td>    0.033</td> <td>   37.149</td> <td> 0.000</td> <td>    1.179</td> <td>    1.310</td>\n",
       "</tr>\n",
       "<tr>\n",
       "  <th>Theme_Friends</th>                   <td>    0.1227</td> <td>    0.052</td> <td>    2.381</td> <td> 0.017</td> <td>    0.022</td> <td>    0.224</td>\n",
       "</tr>\n",
       "<tr>\n",
       "  <th>Theme_Ninjago</th>                   <td>    0.1325</td> <td>    0.046</td> <td>    2.872</td> <td> 0.004</td> <td>    0.042</td> <td>    0.223</td>\n",
       "</tr>\n",
       "<tr>\n",
       "  <th>Theme_Other</th>                     <td>    0.2508</td> <td>    0.021</td> <td>   12.002</td> <td> 0.000</td> <td>    0.210</td> <td>    0.292</td>\n",
       "</tr>\n",
       "<tr>\n",
       "  <th>Theme_Star Wars</th>                 <td>    0.1470</td> <td>    0.032</td> <td>    4.531</td> <td> 0.000</td> <td>    0.083</td> <td>    0.211</td>\n",
       "</tr>\n",
       "<tr>\n",
       "  <th>Availability_Promotional</th>        <td>   -0.3523</td> <td>    0.070</td> <td>   -5.001</td> <td> 0.000</td> <td>   -0.490</td> <td>   -0.214</td>\n",
       "</tr>\n",
       "<tr>\n",
       "  <th>Availability_Retail</th>             <td>   -0.1994</td> <td>    0.041</td> <td>   -4.874</td> <td> 0.000</td> <td>   -0.280</td> <td>   -0.119</td>\n",
       "</tr>\n",
       "<tr>\n",
       "  <th>Availability_Retail - limited</th>   <td>   -0.2087</td> <td>    0.049</td> <td>   -4.284</td> <td> 0.000</td> <td>   -0.304</td> <td>   -0.113</td>\n",
       "</tr>\n",
       "<tr>\n",
       "  <th>Availability_Unknown</th>            <td>   -1.4513</td> <td>    0.454</td> <td>   -3.196</td> <td> 0.001</td> <td>   -2.342</td> <td>   -0.561</td>\n",
       "</tr>\n",
       "<tr>\n",
       "  <th>Packaging_Box</th>                   <td>   -0.6102</td> <td>    0.038</td> <td>  -16.083</td> <td> 0.000</td> <td>   -0.685</td> <td>   -0.536</td>\n",
       "</tr>\n",
       "<tr>\n",
       "  <th>Packaging_Box with backing card</th> <td>   -0.3705</td> <td>    0.121</td> <td>   -3.051</td> <td> 0.002</td> <td>   -0.609</td> <td>   -0.132</td>\n",
       "</tr>\n",
       "<tr>\n",
       "  <th>Packaging_Bucket</th>                <td>   -1.2445</td> <td>    0.136</td> <td>   -9.122</td> <td> 0.000</td> <td>   -1.512</td> <td>   -0.977</td>\n",
       "</tr>\n",
       "<tr>\n",
       "  <th>Packaging_Not specified</th>         <td>   -0.4219</td> <td>    0.053</td> <td>   -7.977</td> <td> 0.000</td> <td>   -0.526</td> <td>   -0.318</td>\n",
       "</tr>\n",
       "<tr>\n",
       "  <th>Packaging_Other</th>                 <td>   -0.4740</td> <td>    0.119</td> <td>   -3.980</td> <td> 0.000</td> <td>   -0.707</td> <td>   -0.240</td>\n",
       "</tr>\n",
       "<tr>\n",
       "  <th>Packaging_Plastic box</th>           <td>    2.2445</td> <td>    0.180</td> <td>   12.478</td> <td> 0.000</td> <td>    1.892</td> <td>    2.597</td>\n",
       "</tr>\n",
       "<tr>\n",
       "  <th>Packaging_Polybag</th>               <td>   -0.9616</td> <td>    0.062</td> <td>  -15.562</td> <td> 0.000</td> <td>   -1.083</td> <td>   -0.840</td>\n",
       "</tr>\n",
       "<tr>\n",
       "  <th>Packaging_Tub</th>                   <td>   -0.9542</td> <td>    0.128</td> <td>   -7.462</td> <td> 0.000</td> <td>   -1.205</td> <td>   -0.704</td>\n",
       "</tr>\n",
       "<tr>\n",
       "  <th>Pieces2</th>                         <td>    0.7318</td> <td>    0.007</td> <td>  102.953</td> <td> 0.000</td> <td>    0.718</td> <td>    0.746</td>\n",
       "</tr>\n",
       "<tr>\n",
       "  <th>Outliers_Piece</th>                  <td>    1.9922</td> <td>    0.263</td> <td>    7.561</td> <td> 0.000</td> <td>    1.476</td> <td>    2.509</td>\n",
       "</tr>\n",
       "<tr>\n",
       "  <th>Outliers_Minifigures</th>            <td>         0</td> <td>        0</td> <td>      nan</td> <td>   nan</td> <td>        0</td> <td>        0</td>\n",
       "</tr>\n",
       "</table>\n",
       "<table class=\"simpletable\">\n",
       "<tr>\n",
       "  <th>Omnibus:</th>       <td>575.167</td> <th>  Durbin-Watson:     </th> <td>   1.133</td>\n",
       "</tr>\n",
       "<tr>\n",
       "  <th>Prob(Omnibus):</th> <td> 0.000</td>  <th>  Jarque-Bera (JB):  </th> <td>3719.443</td>\n",
       "</tr>\n",
       "<tr>\n",
       "  <th>Skew:</th>          <td> 0.654</td>  <th>  Prob(JB):          </th> <td>    0.00</td>\n",
       "</tr>\n",
       "<tr>\n",
       "  <th>Kurtosis:</th>      <td> 7.997</td>  <th>  Cond. No.          </th> <td>     inf</td>\n",
       "</tr>\n",
       "</table><br/><br/>Warnings:<br/>[1] Standard Errors assume that the covariance matrix of the errors is correctly specified.<br/>[2] The smallest eigenvalue is      0. This might indicate that there are<br/>strong multicollinearity problems or that the design matrix is singular."
      ],
      "text/plain": [
       "<class 'statsmodels.iolib.summary.Summary'>\n",
       "\"\"\"\n",
       "                            OLS Regression Results                            \n",
       "==============================================================================\n",
       "Dep. Variable:             Price_USD2   R-squared:                       0.832\n",
       "Model:                            OLS   Adj. R-squared:                  0.831\n",
       "Method:                 Least Squares   F-statistic:                     821.1\n",
       "Date:                Tue, 05 May 2020   Prob (F-statistic):               0.00\n",
       "Time:                        14:48:54   Log-Likelihood:                -2080.8\n",
       "No. Observations:                3346   AIC:                             4204.\n",
       "Df Residuals:                    3325   BIC:                             4332.\n",
       "Df Model:                          20                                         \n",
       "Covariance Type:            nonrobust                                         \n",
       "===================================================================================================\n",
       "                                      coef    std err          t      P>|t|      [0.025      0.975]\n",
       "---------------------------------------------------------------------------------------------------\n",
       "const                              -0.0549      0.052     -1.057      0.290      -0.157       0.047\n",
       "Theme_City                          0.2164      0.033      6.584      0.000       0.152       0.281\n",
       "Theme_Duplo                         1.2444      0.033     37.149      0.000       1.179       1.310\n",
       "Theme_Friends                       0.1227      0.052      2.381      0.017       0.022       0.224\n",
       "Theme_Ninjago                       0.1325      0.046      2.872      0.004       0.042       0.223\n",
       "Theme_Other                         0.2508      0.021     12.002      0.000       0.210       0.292\n",
       "Theme_Star Wars                     0.1470      0.032      4.531      0.000       0.083       0.211\n",
       "Availability_Promotional           -0.3523      0.070     -5.001      0.000      -0.490      -0.214\n",
       "Availability_Retail                -0.1994      0.041     -4.874      0.000      -0.280      -0.119\n",
       "Availability_Retail - limited      -0.2087      0.049     -4.284      0.000      -0.304      -0.113\n",
       "Availability_Unknown               -1.4513      0.454     -3.196      0.001      -2.342      -0.561\n",
       "Packaging_Box                      -0.6102      0.038    -16.083      0.000      -0.685      -0.536\n",
       "Packaging_Box with backing card    -0.3705      0.121     -3.051      0.002      -0.609      -0.132\n",
       "Packaging_Bucket                   -1.2445      0.136     -9.122      0.000      -1.512      -0.977\n",
       "Packaging_Not specified            -0.4219      0.053     -7.977      0.000      -0.526      -0.318\n",
       "Packaging_Other                    -0.4740      0.119     -3.980      0.000      -0.707      -0.240\n",
       "Packaging_Plastic box               2.2445      0.180     12.478      0.000       1.892       2.597\n",
       "Packaging_Polybag                  -0.9616      0.062    -15.562      0.000      -1.083      -0.840\n",
       "Packaging_Tub                      -0.9542      0.128     -7.462      0.000      -1.205      -0.704\n",
       "Pieces2                             0.7318      0.007    102.953      0.000       0.718       0.746\n",
       "Outliers_Piece                      1.9922      0.263      7.561      0.000       1.476       2.509\n",
       "Outliers_Minifigures                     0          0        nan        nan           0           0\n",
       "==============================================================================\n",
       "Omnibus:                      575.167   Durbin-Watson:                   1.133\n",
       "Prob(Omnibus):                  0.000   Jarque-Bera (JB):             3719.443\n",
       "Skew:                           0.654   Prob(JB):                         0.00\n",
       "Kurtosis:                       7.997   Cond. No.                          inf\n",
       "==============================================================================\n",
       "\n",
       "Warnings:\n",
       "[1] Standard Errors assume that the covariance matrix of the errors is correctly specified.\n",
       "[2] The smallest eigenvalue is      0. This might indicate that there are\n",
       "strong multicollinearity problems or that the design matrix is singular.\n",
       "\"\"\""
      ]
     },
     "metadata": {},
     "output_type": "display_data"
    }
   ],
   "source": [
    "X=func(\"Availability_Promotional (Airline)\",X)"
   ]
  },
  {
   "cell_type": "markdown",
   "metadata": {},
   "source": [
    "## 4. Checking assumptions\n",
    "The Assumption function is defined in another python file"
   ]
  },
  {
   "cell_type": "code",
   "execution_count": 165,
   "metadata": {},
   "outputs": [
    {
     "name": "stdout",
     "output_type": "stream",
     "text": [
      "Fitting linear regression\n",
      "\n",
      "R^2: 0.8316186581894514 \n",
      "\n",
      "Coefficients\n",
      "-------------------------------------\n",
      "Intercept: -0.054935920340766664\n",
      "Theme_City: 0.22\n",
      "Theme_Duplo: 1.24\n",
      "Theme_Friends: 0.12\n",
      "Theme_Ninjago: 0.13\n",
      "Theme_Other: 0.25\n",
      "Theme_Star Wars: 0.15\n",
      "Availability_Promotional: -0.35\n",
      "Availability_Retail: -0.2\n",
      "Availability_Retail - limited: -0.21\n",
      "Availability_Unknown: -1.45\n",
      "Packaging_Box: -0.61\n",
      "Packaging_Box with backing card: -0.37\n",
      "Packaging_Bucket: -1.24\n",
      "Packaging_Not specified: -0.42\n",
      "Packaging_Other: -0.47\n",
      "Packaging_Plastic box: 2.24\n",
      "Packaging_Polybag: -0.96\n",
      "Packaging_Tub: -0.95\n",
      "Pieces2: 0.73\n",
      "Outliers_Piece: 1.99\n",
      "Outliers_Minifigures: 0.0\n",
      "\n",
      "=======================================================================================\n",
      "Assumption 1: Linear Relationship between the Target and the Features\n",
      "Checking with a scatter plot of actual vs. predicted. Predictions should follow the diagonal line.\n"
     ]
    },
    {
     "data": {
      "image/png": "[encoded data removed]",
      "text/plain": [
       "<Figure size 432x288 with 1 Axes>"
      ]
     },
     "metadata": {},
     "output_type": "display_data"
    },
    {
     "name": "stdout",
     "output_type": "stream",
     "text": [
      "If non-linearity is apparent, consider adding a polynomial term \n",
      "\t\tor using box-cox transformation to make X or y follow normal distribution\n",
      "\n",
      "\n",
      "\n",
      "Building a correlation table\n",
      "\n",
      "=======================================================================================\n",
      "\n",
      "Parameters that are most likely VIOLATE linearity assumption and their correlation with Price_USD2\n"
     ]
    },
    {
     "data": {
      "text/plain": [
       "Series([], Name: Price_USD2, dtype: float64)"
      ]
     },
     "metadata": {},
     "output_type": "display_data"
    },
    {
     "name": "stdout",
     "output_type": "stream",
     "text": [
      "\n",
      "Parameters that are most likely FOLLOW linearity assumption and their correlation with Price_USD2\n"
     ]
    },
    {
     "data": {
      "text/plain": [
       "Pieces2    0.827721\n",
       "Name: Price_USD2, dtype: float64"
      ]
     },
     "metadata": {},
     "output_type": "display_data"
    },
    {
     "name": "stdout",
     "output_type": "stream",
     "text": [
      "\n",
      "=======================================================================================\n",
      "Assumption 2: Little to no multicollinearity among predictors\n"
     ]
    },
    {
     "data": {
      "image/png": "[encoded data removed]",
      "text/plain": [
       "<Figure size 720x576 with 2 Axes>"
      ]
     },
     "metadata": {},
     "output_type": "display_data"
    },
    {
     "name": "stdout",
     "output_type": "stream",
     "text": [
      "Variance Inflation Factors (VIF)\n",
      "> 10: An indication that multicollinearity may be present\n",
      "> 100: Certain multicollinearity among the variables\n",
      "-------------------------------------\n"
     ]
    },
    {
     "name": "stderr",
     "output_type": "stream",
     "text": [
      "C:\\Users\\Camille\\Anaconda3\\Anaconda33\\lib\\site-packages\\statsmodels\\regression\\linear_model.py:1687: RuntimeWarning: invalid value encountered in double_scalars\n",
      "  return 1 - self.ssr/self.uncentered_tss\n"
     ]
    },
    {
     "name": "stdout",
     "output_type": "stream",
     "text": [
      "Pieces2: 16.548876730386088\n",
      "Packaging_Box: 14.093998827584944\n",
      "Availability_Retail: 7.308210723060135\n",
      "Packaging_Not specified: 4.465775423542481\n",
      "Theme_Other: 2.887153340393272\n",
      "Availability_Retail - limited: 2.0671999873460187\n",
      "Packaging_Polybag: 1.7636925224790965\n",
      "Theme_Duplo: 1.6288663998811874\n",
      "Theme_Star Wars: 1.4913333680451417\n",
      "Theme_City: 1.3828690403049484\n",
      "Availability_Promotional: 1.3790303519863751\n",
      "Theme_Ninjago: 1.1535280316267835\n",
      "Theme_Friends: 1.1294512981098475\n",
      "Packaging_Tub: 1.1175522806745666\n",
      "Packaging_Other: 1.1030462771540241\n",
      "Packaging_Bucket: 1.0894832889344472\n",
      "Packaging_Box with backing card: 1.0761415197842543\n",
      "Packaging_Plastic box: 1.0283992257956338\n",
      "Outliers_Piece: 1.0172547799966072\n",
      "Availability_Unknown: 1.0037359377704531\n",
      "Outliers_Minifigures: nan\n",
      "\n",
      "2 cases of possible multicollinearity\n",
      "0 cases of definite multicollinearity\n",
      "\n",
      "Assumption possibly satisfied\n",
      "\n",
      "Coefficient interpretability may be problematic\n",
      "Consider removing variables with a high Variance Inflation Factor (VIF)\n",
      "\n",
      "=======================================================================================\n",
      "Assumption 3: No Autocorrelation\n",
      "\n",
      "Performing Durbin-Watson Test\n",
      "Values of 1.5 < d < 2.5 generally show that there is no autocorrelation in the data\n",
      "0 to 2< is positive autocorrelation\n",
      ">2 to 4 is negative autocorrelation\n",
      "-------------------------------------\n",
      "Durbin-Watson: 1.1333844689675368\n",
      "Signs of positive autocorrelation \n",
      "\n",
      "Assumption not satisfied \n",
      "\n",
      "\n",
      "=======================================================================================\n",
      "Assumption 4: Homoskedasticity of Error Terms\n",
      "Residuals should have relative constant variance\n"
     ]
    },
    {
     "data": {
      "image/png": "[encoded data removed]",
      "text/plain": [
       "<Figure size 864x432 with 1 Axes>"
      ]
     },
     "metadata": {},
     "output_type": "display_data"
    },
    {
     "name": "stdout",
     "output_type": "stream",
     "text": [
      "If heteroskedasticity is apparent, confidence intervals and predictions will be affected\n",
      "\n",
      "Consider removing outliers and preprocessing features - nonlinear transformation can help\n"
     ]
    },
    {
     "data": {
      "text/plain": [
       "{'Lagrange Multiplier': 669.8016556608985,\n",
       " 'pvalue for LM': 5.378926788404944e-129,\n",
       " 'F stats': 41.62173389428471,\n",
       " 'pvalue for Fstats': 6.895095127052424e-145}"
      ]
     },
     "metadata": {},
     "output_type": "display_data"
    },
    {
     "name": "stdout",
     "output_type": "stream",
     "text": [
      "Signs of positive autocorrelation \n",
      "\n",
      "Assumption potentially not satisfied \n",
      "\n",
      "\n",
      "=======================================================================================\n",
      "Assumption 5: The error terms are kinda normally distributed\n",
      "\n",
      "Using the Anderson-Darling test for normal distribution\n",
      "p-value from the test - below 0.05 generally means non-normal: 0.0\n",
      "Residuals are not normally distributed\n"
     ]
    },
    {
     "name": "stderr",
     "output_type": "stream",
     "text": [
      "C:\\Users\\Camille\\Anaconda3\\Anaconda33\\lib\\site-packages\\statsmodels\\stats\\_adnorm.py:70: RuntimeWarning: divide by zero encountered in log1p\n",
      "  s = np.sum((2 * i[sl1] - 1.0) / nobs * (np.log(z) + np.log1p(-z[sl2])),\n"
     ]
    },
    {
     "data": {
      "image/png": "[encoded data removed]",
      "text/plain": [
       "<Figure size 864x432 with 1 Axes>"
      ]
     },
     "metadata": {},
     "output_type": "display_data"
    },
    {
     "name": "stdout",
     "output_type": "stream",
     "text": [
      "\n",
      "Assumption not satisfied\n",
      "\n",
      "Confidence intervals will likely be affected\n",
      "Try performing nonlinear transformations on variables\n",
      "Building a probability plot\n"
     ]
    },
    {
     "data": {
      "image/png": "[encoded data removed]",
      "text/plain": [
       "<Figure size 432x288 with 1 Axes>"
      ]
     },
     "metadata": {},
     "output_type": "display_data"
    },
    {
     "name": "stdout",
     "output_type": "stream",
     "text": [
      "\n",
      "In your dataset you quite fat tails. You have 0.02 potential outliers (67 rows)\n"
     ]
    },
    {
     "data": {
      "text/plain": [
       "{'Satisfied': ['Linearity'],\n",
       " 'Potentially': ['Multicollinearity', 'Autocorrelation', 'Sub-Normality'],\n",
       " 'Violated': ['Autocorrelation', 'Normality']}"
      ]
     },
     "metadata": {},
     "output_type": "display_data"
    }
   ],
   "source": [
    "from Assumptions import Assumption_Tester_OLS as atols\n",
    "atols(X,y).run_all()"
   ]
  },
  {
   "cell_type": "markdown",
   "metadata": {},
   "source": [
    "### 4.1. Correcting mulitcollinearity"
   ]
  },
  {
   "cell_type": "code",
   "execution_count": 166,
   "metadata": {},
   "outputs": [
    {
     "name": "stderr",
     "output_type": "stream",
     "text": [
      "C:\\Users\\Camille\\Anaconda3\\Anaconda33\\lib\\site-packages\\statsmodels\\regression\\linear_model.py:1685: RuntimeWarning: invalid value encountered in double_scalars\n",
      "  return 1 - self.ssr/self.centered_tss\n",
      "C:\\Users\\Camille\\Anaconda3\\Anaconda33\\lib\\site-packages\\statsmodels\\regression\\linear_model.py:1687: RuntimeWarning: invalid value encountered in double_scalars\n",
      "  return 1 - self.ssr/self.uncentered_tss\n"
     ]
    },
    {
     "data": {
      "text/plain": [
       "Packaging_Box    14.093999\n",
       "Pieces2          16.548877\n",
       "dtype: float64"
      ]
     },
     "execution_count": 166,
     "metadata": {},
     "output_type": "execute_result"
    }
   ],
   "source": [
    "X1=add_constant(X)\n",
    "vifs=pd.Series([VIF(X1.values,i) for i in range(X1.shape[1])],index=X1.columns)\n",
    "vifs=pd.Series([VIF(X.values,i) for i in range(X.shape[1])],index=X.columns)\n",
    "vifs[vifs>10]"
   ]
  },
  {
   "cell_type": "code",
   "execution_count": 167,
   "metadata": {},
   "outputs": [],
   "source": [
    "def func(column, X):\n",
    "    if column:\n",
    "        X=X.drop(column, axis=1)\n",
    "    vifs=pd.Series([VIF(X.values,i) for i in range(X.shape[1])],index=X.columns)\n",
    "    display(vifs[vifs>10])\n",
    "    return X"
   ]
  },
  {
   "cell_type": "code",
   "execution_count": 168,
   "metadata": {},
   "outputs": [],
   "source": [
    "X2=X.copy()"
   ]
  },
  {
   "cell_type": "code",
   "execution_count": 199,
   "metadata": {},
   "outputs": [
    {
     "data": {
      "text/plain": [
       "['Packaging_Box',\n",
       " 'Packaging_Box with backing card',\n",
       " 'Packaging_Other',\n",
       " 'Theme_Friends',\n",
       " 'Packaging_Not specified']"
      ]
     },
     "execution_count": 199,
     "metadata": {},
     "output_type": "execute_result"
    }
   ],
   "source": [
    "[\"Packaging_Box\",\"Packaging_Box with backing card\",\"Packaging_Other\",\"Theme_Friends\",\"Packaging_Not specified\"]"
   ]
  },
  {
   "cell_type": "code",
   "execution_count": 174,
   "metadata": {},
   "outputs": [
    {
     "data": {
      "text/plain": [
       "Series([], dtype: float64)"
      ]
     },
     "metadata": {},
     "output_type": "display_data"
    }
   ],
   "source": [
    "X2=func('Packaging_Not specified',X2)"
   ]
  },
  {
   "cell_type": "markdown",
   "metadata": {},
   "source": [
    "## 5. Final regression after correction"
   ]
  },
  {
   "cell_type": "markdown",
   "metadata": {},
   "source": [
    "### 5.1. Final regression"
   ]
  },
  {
   "cell_type": "code",
   "execution_count": 175,
   "metadata": {},
   "outputs": [
    {
     "name": "stderr",
     "output_type": "stream",
     "text": [
      "C:\\Users\\Camille\\Anaconda3\\Anaconda33\\lib\\site-packages\\statsmodels\\regression\\linear_model.py:1830: RuntimeWarning: divide by zero encountered in double_scalars\n",
      "  return np.sqrt(eigvals[0]/eigvals[-1])\n",
      "C:\\Users\\Camille\\Anaconda3\\Anaconda33\\lib\\site-packages\\statsmodels\\base\\model.py:1362: RuntimeWarning: invalid value encountered in true_divide\n",
      "  return self.params / self.bse\n",
      "C:\\Users\\Camille\\Anaconda3\\Anaconda33\\lib\\site-packages\\scipy\\stats\\_distn_infrastructure.py:903: RuntimeWarning: invalid value encountered in greater\n",
      "  return (a < x) & (x < b)\n",
      "C:\\Users\\Camille\\Anaconda3\\Anaconda33\\lib\\site-packages\\scipy\\stats\\_distn_infrastructure.py:903: RuntimeWarning: invalid value encountered in less\n",
      "  return (a < x) & (x < b)\n",
      "C:\\Users\\Camille\\Anaconda3\\Anaconda33\\lib\\site-packages\\scipy\\stats\\_distn_infrastructure.py:1912: RuntimeWarning: invalid value encountered in less_equal\n",
      "  cond2 = cond0 & (x <= _a)\n"
     ]
    },
    {
     "data": {
      "text/html": [
       "<table class=\"simpletable\">\n",
       "<caption>OLS Regression Results</caption>\n",
       "<tr>\n",
       "  <th>Dep. Variable:</th>       <td>Price_USD2</td>    <th>  R-squared:         </th> <td>   0.818</td>\n",
       "</tr>\n",
       "<tr>\n",
       "  <th>Model:</th>                   <td>OLS</td>       <th>  Adj. R-squared:    </th> <td>   0.818</td>\n",
       "</tr>\n",
       "<tr>\n",
       "  <th>Method:</th>             <td>Least Squares</td>  <th>  F-statistic:       </th> <td>   1000.</td>\n",
       "</tr>\n",
       "<tr>\n",
       "  <th>Date:</th>             <td>Tue, 05 May 2020</td> <th>  Prob (F-statistic):</th>  <td>  0.00</td> \n",
       "</tr>\n",
       "<tr>\n",
       "  <th>Time:</th>                 <td>14:50:32</td>     <th>  Log-Likelihood:    </th> <td> -2207.9</td>\n",
       "</tr>\n",
       "<tr>\n",
       "  <th>No. Observations:</th>      <td>  3346</td>      <th>  AIC:               </th> <td>   4448.</td>\n",
       "</tr>\n",
       "<tr>\n",
       "  <th>Df Residuals:</th>          <td>  3330</td>      <th>  BIC:               </th> <td>   4546.</td>\n",
       "</tr>\n",
       "<tr>\n",
       "  <th>Df Model:</th>              <td>    15</td>      <th>                     </th>     <td> </td>   \n",
       "</tr>\n",
       "<tr>\n",
       "  <th>Covariance Type:</th>      <td>nonrobust</td>    <th>                     </th>     <td> </td>   \n",
       "</tr>\n",
       "</table>\n",
       "<table class=\"simpletable\">\n",
       "<tr>\n",
       "                <td></td>                   <th>coef</th>     <th>std err</th>      <th>t</th>      <th>P>|t|</th>  <th>[0.025</th>    <th>0.975]</th>  \n",
       "</tr>\n",
       "<tr>\n",
       "  <th>const</th>                         <td>   -0.2128</td> <td>    0.032</td> <td>   -6.634</td> <td> 0.000</td> <td>   -0.276</td> <td>   -0.150</td>\n",
       "</tr>\n",
       "<tr>\n",
       "  <th>Theme_City</th>                    <td>    0.1490</td> <td>    0.033</td> <td>    4.464</td> <td> 0.000</td> <td>    0.084</td> <td>    0.214</td>\n",
       "</tr>\n",
       "<tr>\n",
       "  <th>Theme_Duplo</th>                   <td>    1.1268</td> <td>    0.033</td> <td>   33.882</td> <td> 0.000</td> <td>    1.062</td> <td>    1.192</td>\n",
       "</tr>\n",
       "<tr>\n",
       "  <th>Theme_Ninjago</th>                 <td>    0.2087</td> <td>    0.047</td> <td>    4.427</td> <td> 0.000</td> <td>    0.116</td> <td>    0.301</td>\n",
       "</tr>\n",
       "<tr>\n",
       "  <th>Theme_Other</th>                   <td>    0.1795</td> <td>    0.021</td> <td>    8.752</td> <td> 0.000</td> <td>    0.139</td> <td>    0.220</td>\n",
       "</tr>\n",
       "<tr>\n",
       "  <th>Theme_Star Wars</th>               <td>    0.1045</td> <td>    0.033</td> <td>    3.168</td> <td> 0.002</td> <td>    0.040</td> <td>    0.169</td>\n",
       "</tr>\n",
       "<tr>\n",
       "  <th>Availability_Promotional</th>      <td>   -0.5304</td> <td>    0.064</td> <td>   -8.285</td> <td> 0.000</td> <td>   -0.656</td> <td>   -0.405</td>\n",
       "</tr>\n",
       "<tr>\n",
       "  <th>Availability_Retail</th>           <td>   -0.2851</td> <td>    0.020</td> <td>  -14.042</td> <td> 0.000</td> <td>   -0.325</td> <td>   -0.245</td>\n",
       "</tr>\n",
       "<tr>\n",
       "  <th>Availability_Retail - limited</th> <td>   -0.3115</td> <td>    0.036</td> <td>   -8.562</td> <td> 0.000</td> <td>   -0.383</td> <td>   -0.240</td>\n",
       "</tr>\n",
       "<tr>\n",
       "  <th>Availability_Unknown</th>          <td>   -1.6455</td> <td>    0.470</td> <td>   -3.504</td> <td> 0.000</td> <td>   -2.566</td> <td>   -0.725</td>\n",
       "</tr>\n",
       "<tr>\n",
       "  <th>Packaging_Bucket</th>              <td>   -0.6451</td> <td>    0.136</td> <td>   -4.738</td> <td> 0.000</td> <td>   -0.912</td> <td>   -0.378</td>\n",
       "</tr>\n",
       "<tr>\n",
       "  <th>Packaging_Plastic box</th>         <td>    2.5505</td> <td>    0.181</td> <td>   14.119</td> <td> 0.000</td> <td>    2.196</td> <td>    2.905</td>\n",
       "</tr>\n",
       "<tr>\n",
       "  <th>Packaging_Polybag</th>             <td>   -0.4642</td> <td>    0.054</td> <td>   -8.552</td> <td> 0.000</td> <td>   -0.571</td> <td>   -0.358</td>\n",
       "</tr>\n",
       "<tr>\n",
       "  <th>Packaging_Tub</th>                 <td>   -0.3307</td> <td>    0.126</td> <td>   -2.617</td> <td> 0.009</td> <td>   -0.579</td> <td>   -0.083</td>\n",
       "</tr>\n",
       "<tr>\n",
       "  <th>Pieces2</th>                       <td>    0.6784</td> <td>    0.006</td> <td>  105.979</td> <td> 0.000</td> <td>    0.666</td> <td>    0.691</td>\n",
       "</tr>\n",
       "<tr>\n",
       "  <th>Outliers_Piece</th>                <td>    1.7995</td> <td>    0.273</td> <td>    6.589</td> <td> 0.000</td> <td>    1.264</td> <td>    2.335</td>\n",
       "</tr>\n",
       "<tr>\n",
       "  <th>Outliers_Minifigures</th>          <td>         0</td> <td>        0</td> <td>      nan</td> <td>   nan</td> <td>        0</td> <td>        0</td>\n",
       "</tr>\n",
       "</table>\n",
       "<table class=\"simpletable\">\n",
       "<tr>\n",
       "  <th>Omnibus:</th>       <td>444.928</td> <th>  Durbin-Watson:     </th> <td>   1.111</td>\n",
       "</tr>\n",
       "<tr>\n",
       "  <th>Prob(Omnibus):</th> <td> 0.000</td>  <th>  Jarque-Bera (JB):  </th> <td>2399.256</td>\n",
       "</tr>\n",
       "<tr>\n",
       "  <th>Skew:</th>          <td> 0.513</td>  <th>  Prob(JB):          </th> <td>    0.00</td>\n",
       "</tr>\n",
       "<tr>\n",
       "  <th>Kurtosis:</th>      <td> 7.019</td>  <th>  Cond. No.          </th> <td>     inf</td>\n",
       "</tr>\n",
       "</table><br/><br/>Warnings:<br/>[1] Standard Errors assume that the covariance matrix of the errors is correctly specified.<br/>[2] The smallest eigenvalue is      0. This might indicate that there are<br/>strong multicollinearity problems or that the design matrix is singular."
      ],
      "text/plain": [
       "<class 'statsmodels.iolib.summary.Summary'>\n",
       "\"\"\"\n",
       "                            OLS Regression Results                            \n",
       "==============================================================================\n",
       "Dep. Variable:             Price_USD2   R-squared:                       0.818\n",
       "Model:                            OLS   Adj. R-squared:                  0.818\n",
       "Method:                 Least Squares   F-statistic:                     1000.\n",
       "Date:                Tue, 05 May 2020   Prob (F-statistic):               0.00\n",
       "Time:                        14:50:32   Log-Likelihood:                -2207.9\n",
       "No. Observations:                3346   AIC:                             4448.\n",
       "Df Residuals:                    3330   BIC:                             4546.\n",
       "Df Model:                          15                                         \n",
       "Covariance Type:            nonrobust                                         \n",
       "=================================================================================================\n",
       "                                    coef    std err          t      P>|t|      [0.025      0.975]\n",
       "-------------------------------------------------------------------------------------------------\n",
       "const                            -0.2128      0.032     -6.634      0.000      -0.276      -0.150\n",
       "Theme_City                        0.1490      0.033      4.464      0.000       0.084       0.214\n",
       "Theme_Duplo                       1.1268      0.033     33.882      0.000       1.062       1.192\n",
       "Theme_Ninjago                     0.2087      0.047      4.427      0.000       0.116       0.301\n",
       "Theme_Other                       0.1795      0.021      8.752      0.000       0.139       0.220\n",
       "Theme_Star Wars                   0.1045      0.033      3.168      0.002       0.040       0.169\n",
       "Availability_Promotional         -0.5304      0.064     -8.285      0.000      -0.656      -0.405\n",
       "Availability_Retail              -0.2851      0.020    -14.042      0.000      -0.325      -0.245\n",
       "Availability_Retail - limited    -0.3115      0.036     -8.562      0.000      -0.383      -0.240\n",
       "Availability_Unknown             -1.6455      0.470     -3.504      0.000      -2.566      -0.725\n",
       "Packaging_Bucket                 -0.6451      0.136     -4.738      0.000      -0.912      -0.378\n",
       "Packaging_Plastic box             2.5505      0.181     14.119      0.000       2.196       2.905\n",
       "Packaging_Polybag                -0.4642      0.054     -8.552      0.000      -0.571      -0.358\n",
       "Packaging_Tub                    -0.3307      0.126     -2.617      0.009      -0.579      -0.083\n",
       "Pieces2                           0.6784      0.006    105.979      0.000       0.666       0.691\n",
       "Outliers_Piece                    1.7995      0.273      6.589      0.000       1.264       2.335\n",
       "Outliers_Minifigures                   0          0        nan        nan           0           0\n",
       "==============================================================================\n",
       "Omnibus:                      444.928   Durbin-Watson:                   1.111\n",
       "Prob(Omnibus):                  0.000   Jarque-Bera (JB):             2399.256\n",
       "Skew:                           0.513   Prob(JB):                         0.00\n",
       "Kurtosis:                       7.019   Cond. No.                          inf\n",
       "==============================================================================\n",
       "\n",
       "Warnings:\n",
       "[1] Standard Errors assume that the covariance matrix of the errors is correctly specified.\n",
       "[2] The smallest eigenvalue is      0. This might indicate that there are\n",
       "strong multicollinearity problems or that the design matrix is singular.\n",
       "\"\"\""
      ]
     },
     "execution_count": 175,
     "metadata": {},
     "output_type": "execute_result"
    }
   ],
   "source": [
    "sm.OLS(y,add_constant(X2)).fit().summary()"
   ]
  },
  {
   "cell_type": "markdown",
   "metadata": {},
   "source": [
    "### 5.2. Building the model equation"
   ]
  },
  {
   "cell_type": "code",
   "execution_count": 176,
   "metadata": {},
   "outputs": [],
   "source": [
    "df = pd.read_html(sm.OLS(y,add_constant(X2)).fit().summary().tables[1].as_html(),header=0,index_col=0)[0]"
   ]
  },
  {
   "cell_type": "code",
   "execution_count": 177,
   "metadata": {},
   "outputs": [
    {
     "data": {
      "text/plain": [
       "17"
      ]
     },
     "execution_count": 177,
     "metadata": {},
     "output_type": "execute_result"
    }
   ],
   "source": [
    "len(df)"
   ]
  },
  {
   "cell_type": "code",
   "execution_count": 178,
   "metadata": {},
   "outputs": [],
   "source": [
    "c=df['coef'].values[0]\n",
    "lst_coef=[df['coef'].values[i] for i in range(len(df))]"
   ]
  },
  {
   "cell_type": "code",
   "execution_count": 179,
   "metadata": {},
   "outputs": [],
   "source": [
    "lst_var=[\"x\"+str(i) for i in range(len(df))]"
   ]
  },
  {
   "cell_type": "code",
   "execution_count": 180,
   "metadata": {},
   "outputs": [
    {
     "data": {
      "text/plain": [
       "{'x0': -0.2128,\n",
       " 'x1': 0.149,\n",
       " 'x2': 1.1268,\n",
       " 'x3': 0.2087,\n",
       " 'x4': 0.1795,\n",
       " 'x5': 0.1045,\n",
       " 'x6': -0.5304,\n",
       " 'x7': -0.2851,\n",
       " 'x8': -0.3115,\n",
       " 'x9': -1.6455,\n",
       " 'x10': -0.6451,\n",
       " 'x11': 2.5505,\n",
       " 'x12': -0.4642,\n",
       " 'x13': -0.3307,\n",
       " 'x14': 0.6784,\n",
       " 'x15': 1.7995,\n",
       " 'x16': 0.0}"
      ]
     },
     "execution_count": 180,
     "metadata": {},
     "output_type": "execute_result"
    }
   ],
   "source": [
    "dct_coef={lst_var[i]:lst_coef[i] for i in range(len(df))}\n",
    "dct_coef"
   ]
  },
  {
   "cell_type": "code",
   "execution_count": 181,
   "metadata": {},
   "outputs": [],
   "source": [
    "str_equation=\"\""
   ]
  },
  {
   "cell_type": "code",
   "execution_count": 182,
   "metadata": {},
   "outputs": [
    {
     "name": "stdout",
     "output_type": "stream",
     "text": [
      "y= -0.2128 +0.149*x1 +1.1268*x2 +0.2087*x3 +0.1795*x4 +0.1045*x5 -0.5304*x6 -0.2851*x7 -0.3115*x8 -1.6455*x9 -0.6451*x10 +2.5505*x11 -0.4642*x12 -0.3307*x13 +0.6784*x14 +1.7995*x15 +0.0*x16 \n"
     ]
    }
   ],
   "source": [
    "for i in range(len(df)):\n",
    "    if i ==0:\n",
    "        str_equation=str_equation+str(lst_coef[i])+\" \"\n",
    "    else:\n",
    "        if lst_coef[i]<0:\n",
    "            str_equation=str_equation+str(lst_coef[i])+\"*\"+str(lst_var[i])+\" \"\n",
    "        else:\n",
    "            str_equation=str_equation+\"+\"+str(lst_coef[i])+\"*\"+str(lst_var[i])+\" \"\n",
    "\n",
    "print(\"y=\",str_equation)"
   ]
  },
  {
   "cell_type": "markdown",
   "metadata": {},
   "source": [
    "### 5.3. Final assumptions check"
   ]
  },
  {
   "cell_type": "code",
   "execution_count": 183,
   "metadata": {},
   "outputs": [
    {
     "name": "stdout",
     "output_type": "stream",
     "text": [
      "Fitting linear regression\n",
      "\n",
      "R^2: 0.8183334652647039 \n",
      "\n",
      "Coefficients\n",
      "-------------------------------------\n",
      "Intercept: -0.21283932848236065\n",
      "Theme_City: 0.15\n",
      "Theme_Duplo: 1.13\n",
      "Theme_Ninjago: 0.21\n",
      "Theme_Other: 0.18\n",
      "Theme_Star Wars: 0.1\n",
      "Availability_Promotional: -0.53\n",
      "Availability_Retail: -0.29\n",
      "Availability_Retail - limited: -0.31\n",
      "Availability_Unknown: -1.65\n",
      "Packaging_Bucket: -0.65\n",
      "Packaging_Plastic box: 2.55\n",
      "Packaging_Polybag: -0.46\n",
      "Packaging_Tub: -0.33\n",
      "Pieces2: 0.68\n",
      "Outliers_Piece: 1.8\n",
      "Outliers_Minifigures: 0.0\n",
      "\n",
      "=======================================================================================\n",
      "Assumption 1: Linear Relationship between the Target and the Features\n",
      "Checking with a scatter plot of actual vs. predicted. Predictions should follow the diagonal line.\n"
     ]
    },
    {
     "data": {
      "image/png": "[encoded data removed]",
      "text/plain": [
       "<Figure size 432x288 with 1 Axes>"
      ]
     },
     "metadata": {},
     "output_type": "display_data"
    },
    {
     "name": "stdout",
     "output_type": "stream",
     "text": [
      "If non-linearity is apparent, consider adding a polynomial term \n",
      "\t\tor using box-cox transformation to make X or y follow normal distribution\n",
      "\n",
      "\n",
      "\n",
      "Building a correlation table\n",
      "\n",
      "=======================================================================================\n",
      "\n",
      "Parameters that are most likely VIOLATE linearity assumption and their correlation with Price_USD2\n"
     ]
    },
    {
     "data": {
      "text/plain": [
       "Series([], Name: Price_USD2, dtype: float64)"
      ]
     },
     "metadata": {},
     "output_type": "display_data"
    },
    {
     "name": "stdout",
     "output_type": "stream",
     "text": [
      "\n",
      "Parameters that are most likely FOLLOW linearity assumption and their correlation with Price_USD2\n"
     ]
    },
    {
     "data": {
      "text/plain": [
       "Pieces2    0.827721\n",
       "Name: Price_USD2, dtype: float64"
      ]
     },
     "metadata": {},
     "output_type": "display_data"
    },
    {
     "name": "stdout",
     "output_type": "stream",
     "text": [
      "\n",
      "=======================================================================================\n",
      "Assumption 2: Little to no multicollinearity among predictors\n"
     ]
    },
    {
     "data": {
      "image/png": "[encoded data removed]",
      "text/plain": [
       "<Figure size 720x576 with 2 Axes>"
      ]
     },
     "metadata": {},
     "output_type": "display_data"
    },
    {
     "name": "stdout",
     "output_type": "stream",
     "text": [
      "Variance Inflation Factors (VIF)\n",
      "> 10: An indication that multicollinearity may be present\n",
      "> 100: Certain multicollinearity among the variables\n",
      "-------------------------------------\n",
      "Pieces2: 6.743126788384994\n",
      "Availability_Retail: 3.36775692223714\n",
      "Theme_Other: 2.4790640967776127\n",
      "Availability_Retail - limited: 1.534434548734396\n",
      "Theme_Star Wars: 1.431114383460322\n",
      "Packaging_Polybag: 1.3651278114503478\n",
      "Theme_City: 1.3250396642852251\n",
      "Availability_Promotional: 1.2358053074890853\n",
      "Theme_Duplo: 1.1771606521320832\n",
      "Theme_Ninjago: 1.110533930925081\n",
      "Packaging_Plastic box: 1.0221974264122928\n",
      "Packaging_Tub: 1.0120056573379825\n",
      "Packaging_Bucket: 1.009105859903612\n",
      "Outliers_Piece: 1.0055008818715478\n",
      "Availability_Unknown: 1.0011458958123391\n",
      "Outliers_Minifigures: nan\n",
      "\n",
      "0 cases of possible multicollinearity\n",
      "0 cases of definite multicollinearity\n",
      "\n",
      "Assumption satisfied\n",
      "\n",
      "=======================================================================================\n",
      "Assumption 3: No Autocorrelation\n",
      "\n",
      "Performing Durbin-Watson Test\n",
      "Values of 1.5 < d < 2.5 generally show that there is no autocorrelation in the data\n",
      "0 to 2< is positive autocorrelation\n",
      ">2 to 4 is negative autocorrelation\n",
      "-------------------------------------\n",
      "Durbin-Watson: 1.1109496025957144\n",
      "Signs of positive autocorrelation \n",
      "\n",
      "Assumption not satisfied \n",
      "\n",
      "\n",
      "=======================================================================================\n",
      "Assumption 4: Homoskedasticity of Error Terms\n",
      "Residuals should have relative constant variance\n"
     ]
    },
    {
     "name": "stderr",
     "output_type": "stream",
     "text": [
      "C:\\Users\\Camille\\Anaconda3\\Anaconda33\\lib\\site-packages\\statsmodels\\regression\\linear_model.py:1687: RuntimeWarning: invalid value encountered in double_scalars\n",
      "  return 1 - self.ssr/self.uncentered_tss\n"
     ]
    },
    {
     "data": {
      "image/png": "[encoded data removed]",
      "text/plain": [
       "<Figure size 864x432 with 1 Axes>"
      ]
     },
     "metadata": {},
     "output_type": "display_data"
    },
    {
     "name": "stdout",
     "output_type": "stream",
     "text": [
      "If heteroskedasticity is apparent, confidence intervals and predictions will be affected\n",
      "\n",
      "Consider removing outliers and preprocessing features - nonlinear transformation can help\n"
     ]
    },
    {
     "data": {
      "text/plain": [
       "{'Lagrange Multiplier': 467.4246458213345,\n",
       " 'pvalue for LM': 4.3303301972180705e-90,\n",
       " 'F stats': 36.059307207195815,\n",
       " 'pvalue for Fstats': 1.9535746679335322e-97}"
      ]
     },
     "metadata": {},
     "output_type": "display_data"
    },
    {
     "name": "stdout",
     "output_type": "stream",
     "text": [
      "Signs of positive autocorrelation \n",
      "\n",
      "Assumption potentially not satisfied \n",
      "\n",
      "\n",
      "=======================================================================================\n",
      "Assumption 5: The error terms are kinda normally distributed\n",
      "\n",
      "Using the Anderson-Darling test for normal distribution\n",
      "p-value from the test - below 0.05 generally means non-normal: 0.0\n",
      "Residuals are not normally distributed\n"
     ]
    },
    {
     "name": "stderr",
     "output_type": "stream",
     "text": [
      "C:\\Users\\Camille\\Anaconda3\\Anaconda33\\lib\\site-packages\\statsmodels\\stats\\_adnorm.py:70: RuntimeWarning: divide by zero encountered in log1p\n",
      "  s = np.sum((2 * i[sl1] - 1.0) / nobs * (np.log(z) + np.log1p(-z[sl2])),\n"
     ]
    },
    {
     "data": {
      "image/png": "[encoded data removed]",
      "text/plain": [
       "<Figure size 864x432 with 1 Axes>"
      ]
     },
     "metadata": {},
     "output_type": "display_data"
    },
    {
     "name": "stdout",
     "output_type": "stream",
     "text": [
      "\n",
      "Assumption not satisfied\n",
      "\n",
      "Confidence intervals will likely be affected\n",
      "Try performing nonlinear transformations on variables\n",
      "Building a probability plot\n"
     ]
    },
    {
     "data": {
      "image/png": "[encoded data removed]",
      "text/plain": [
       "<Figure size 432x288 with 1 Axes>"
      ]
     },
     "metadata": {},
     "output_type": "display_data"
    },
    {
     "name": "stdout",
     "output_type": "stream",
     "text": [
      "\n",
      "In your dataset you quite fat tails. You have 0.02 potential outliers (66 rows)\n"
     ]
    },
    {
     "data": {
      "text/plain": [
       "{'Satisfied': ['Linearity', 'Multicollinearity'],\n",
       " 'Potentially': ['Autocorrelation', 'Sub-Normality'],\n",
       " 'Violated': ['Autocorrelation', 'Normality']}"
      ]
     },
     "metadata": {},
     "output_type": "display_data"
    }
   ],
   "source": [
    "from Assumptions import Assumption_Tester_OLS as atols\n",
    "atols(X2,y).run_all()"
   ]
  },
  {
   "cell_type": "markdown",
   "metadata": {},
   "source": [
    "### 5.4. Plotting predictions"
   ]
  },
  {
   "cell_type": "code",
   "execution_count": 187,
   "metadata": {},
   "outputs": [],
   "source": [
    "mod=sm.OLS(y,add_constant(X2)).fit()\n",
    "y_pred=mod.predict(add_constant(X2))"
   ]
  },
  {
   "cell_type": "markdown",
   "metadata": {},
   "source": [
    "#### a. Plotting predictions with boxcox"
   ]
  },
  {
   "cell_type": "code",
   "execution_count": 188,
   "metadata": {},
   "outputs": [],
   "source": [
    "lego=pd.concat([y,y_pred],axis=1)"
   ]
  },
  {
   "cell_type": "code",
   "execution_count": 189,
   "metadata": {},
   "outputs": [],
   "source": [
    "lego.columns=['Price','Price_predict']"
   ]
  },
  {
   "cell_type": "code",
   "execution_count": 198,
   "metadata": {},
   "outputs": [
    {
     "data": {
      "text/plain": [
       "Text(0.5, 1.0, 'Linear Regression for prices of lego sets - boxcox')"
      ]
     },
     "execution_count": 198,
     "metadata": {},
     "output_type": "execute_result"
    },
    {
     "data": {
      "image/png": "[encoded data removed]",
      "text/plain": [
       "<Figure size 360x360 with 1 Axes>"
      ]
     },
     "metadata": {},
     "output_type": "display_data"
    }
   ],
   "source": [
    "sns.lmplot(x='Price', y='Price_predict', data=lego)\n",
    "plt.ylabel(\"ln(Price Predict)\")\n",
    "plt.xlabel(\"ln(Price)\")\n",
    "plt.title(\"Linear Regression for prices of lego sets - boxcox\", fontsize=15)"
   ]
  },
  {
   "cell_type": "markdown",
   "metadata": {},
   "source": [
    "#### b. Plotting without boxcox"
   ]
  },
  {
   "cell_type": "code",
   "execution_count": 192,
   "metadata": {},
   "outputs": [],
   "source": [
    "exp_y=inv_boxcox(y, 0)\n",
    "exp_y_pred=inv_boxcox(y_pred, 0)"
   ]
  },
  {
   "cell_type": "code",
   "execution_count": 193,
   "metadata": {},
   "outputs": [],
   "source": [
    "lego_exp=pd.concat([exp_y,exp_y_pred],axis=1)"
   ]
  },
  {
   "cell_type": "code",
   "execution_count": 194,
   "metadata": {},
   "outputs": [],
   "source": [
    "lego_exp.columns=['Price','Price_predict']"
   ]
  },
  {
   "cell_type": "code",
   "execution_count": 197,
   "metadata": {},
   "outputs": [
    {
     "data": {
      "text/plain": [
       "Text(0.5, 1.0, 'Linear Regression for prices of lego sets')"
      ]
     },
     "execution_count": 197,
     "metadata": {},
     "output_type": "execute_result"
    },
    {
     "data": {
      "image/png": "[encoded data removed]",
      "text/plain": [
       "<Figure size 360x360 with 1 Axes>"
      ]
     },
     "metadata": {},
     "output_type": "display_data"
    }
   ],
   "source": [
    "sns.lmplot(x='Price', y='Price_predict', data=lego_exp)\n",
    "plt.ylabel(\"Price Predict\")\n",
    "plt.xlabel(\"Price\")\n",
    "plt.title(\"Linear Regression for prices of lego sets\", fontsize=15)"
   ]
  },
  {
   "cell_type": "code",
   "execution_count": null,
   "metadata": {},
   "outputs": [],
   "source": []
  }
 ],
 "metadata": {
  "kernelspec": {
   "display_name": "Python 3",
   "language": "python",
   "name": "python3"
  },
  "language_info": {
   "codemirror_mode": {
    "name": "ipython",
    "version": 3
   },
   "file_extension": ".py",
   "mimetype": "text/x-python",
   "name": "python",
   "nbconvert_exporter": "python",
   "pygments_lexer": "ipython3",
   "version": "3.7.4"
  }
 },
 "nbformat": 4,
 "nbformat_minor": 4
}
